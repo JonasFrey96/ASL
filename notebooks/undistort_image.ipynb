{
 "cells": [
  {
   "cell_type": "code",
   "execution_count": null,
   "metadata": {
    "scrolled": false
   },
   "outputs": [],
   "source": [
    "import cv2\n",
    "import numpy as np\n",
    "from PIL import Image\n",
    "\n",
    "p = \"/media/scratch2/jonfrey/datasets/labdata/2/frame000500.png\" \n",
    "\n",
    "img = cv2.imread(p)\n",
    "display(Image.fromarray(img))\n",
    "h,  w = img.shape[:2]\n",
    "fx = 632.182199503654\n",
    "fy = 632.2350553744526\n",
    "cx = 680.007136923931\n",
    "cy = 501.1635061901144\n",
    "\n",
    "mtx = np.array( [[fx, 0, cx],[0, fy, cy],[0,0,1]])\n",
    "dist = np.array( [0.01080884182416773,-0.004077890343521609,0.0038844454797038563,-0.00164791775548587] )\n",
    "newcameramtx, roi=cv2.getOptimalNewCameraMatrix(mtx,dist,(w,h),1,(w,h))\n",
    "newcameramtx, mtx, roi\n",
    "\n",
    "# undistort\n",
    "dst = cv2.undistort(img, mtx, dist, None, newcameramtx)\n",
    "display(Image.fromarray(dst))\n",
    "\n",
    "# crop the image\n",
    "x,y,w,h = roi\n",
    "dst = dst[y:y+h, x:x+w]\n",
    "display(Image.fromarray(dst))\n",
    "# cv2.imwrite('calibresult.png',dst)"
   ]
  },
  {
   "cell_type": "code",
   "execution_count": null,
   "metadata": {},
   "outputs": [],
   "source": [
    "# undistort\n",
    "mapx,mapy = cv2.initUndistortRectifyMap(mtx,dist,None,newcameramtx,(w,h),5)\n",
    "dst = cv2.remap(img,mapx,mapy,cv2.INTER_LINEAR)\n",
    "\n",
    "# crop the image\n",
    "x,y,w,h = roi\n",
    "dst = dst[y:y+h, x:x+w]\n",
    "\n",
    "display(Image.fromarray(dst))\n",
    "# cv2.imwrite('calibresult.png',dst)"
   ]
  }
 ],
 "metadata": {
  "kernelspec": {
   "display_name": "track3",
   "language": "python",
   "name": "track3"
  },
  "language_info": {
   "codemirror_mode": {
    "name": "ipython",
    "version": 3
   },
   "file_extension": ".py",
   "mimetype": "text/x-python",
   "name": "python",
   "nbconvert_exporter": "python",
   "pygments_lexer": "ipython3",
   "version": "3.7.4"
  }
 },
 "nbformat": 4,
 "nbformat_minor": 4
}
