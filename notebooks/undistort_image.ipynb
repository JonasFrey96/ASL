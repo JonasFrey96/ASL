{
 "cells": [
  {
   "cell_type": "code",
   "execution_count": null,
   "metadata": {},
   "outputs": [],
   "source": [
    "import cv2\n",
    "import numpy as np\n",
    "from PIL import Image\n",
    "\n",
    "## OpenCV 4.4.0 !!!\n",
    "\n",
    "p = \"/media/scratch2/jonfrey/datasets/labdata/2/frame000500.png\" \n",
    "\n",
    "img = cv2.imread(p)\n",
    "display(Image.fromarray(img))\n",
    "h,  w = img.shape[:2]\n",
    "fx = 632.182199503654\n",
    "fy = 632.2350553744526\n",
    "cx = 680.007136923931\n",
    "cy = 501.1635061901144\n",
    "\n",
    "K = np.array( [[fx, 0, cx],[0, fy, cy],[0,0,1]])\n",
    "D = np.array( [0.01080884182416773,-0.004077890343521609,0.0038844454797038563,-0.00164791775548587] )\n",
    "new_K = cv2.fisheye.estimateNewCameraMatrixForUndistortRectify( K ,D,(w,h), np.eye(3))\n",
    "print(\"K:\\n\", K)\n",
    "\n",
    "print(\"new_K:\\n\", new_K)\n",
    "map1, map2 = cv2.fisheye.initUndistortRectifyMap( K , D, np.eye(3), new_K, (w,h), cv2.CV_16SC2)\n",
    "\n",
    "undistorted_img = cv2.remap(img, map1, map2, interpolation=cv2.INTER_LINEAR, borderMode=cv2.BORDER_CONSTANT) # cv2.BORDER_CONSTANT cv2.BORDER_REFLECT\n",
    "display(Image.fromarray(undistorted_img))"
   ]
  },
  {
   "cell_type": "code",
   "execution_count": null,
   "metadata": {},
   "outputs": [],
   "source": [
    "from pathlib import Path\n",
    "import os\n",
    "\n",
    "base = '/media/scratch2/jonfrey/datasets/labdata'\n",
    "p = os.path.join( base, '2')\n",
    "\n",
    "imgs = [str(p) for p in Path(p).rglob('*.png') if str(p).find('undistorted') == -1]\n",
    "for j, img_path in enumerate( imgs ):\n",
    "    img = cv2.imread(img_path)\n",
    "    undistorted_img = cv2.remap(img, map1, map2, interpolation=cv2.INTER_LINEAR, borderMode=cv2.BORDER_CONSTANT) # cv2.BORDER_CONSTANT cv2.BORDER_REFLECT\n",
    "    img_path_out = img_path.split('/')[:-1]  \n",
    "    img_path_out.append('undistorted_'+img_path.split('/')[-1])\n",
    "    img_path_out ='/'.join(img_path_out)\n",
    "    cv2.imwrite(img_path_out, undistorted_img)\n",
    "    "
   ]
  },
  {
   "cell_type": "code",
   "execution_count": null,
   "metadata": {},
   "outputs": [],
   "source": [
    "p = os.path.join( base, '2/camera_calibration.csv')\n",
    "np.savetxt(p, new_K , delimiter=\",\")"
   ]
  }
 ],
 "metadata": {
  "kernelspec": {
   "display_name": "track3",
   "language": "python",
   "name": "track3"
  },
  "language_info": {
   "codemirror_mode": {
    "name": "ipython",
    "version": 3
   },
   "file_extension": ".py",
   "mimetype": "text/x-python",
   "name": "python",
   "nbconvert_exporter": "python",
   "pygments_lexer": "ipython3",
   "version": "3.7.4"
  }
 },
 "nbformat": 4,
 "nbformat_minor": 4
}
