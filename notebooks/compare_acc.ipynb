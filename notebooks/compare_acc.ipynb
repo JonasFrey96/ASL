{
 "cells": [
  {
   "cell_type": "code",
   "execution_count": null,
   "id": "b772b3a1",
   "metadata": {},
   "outputs": [],
   "source": [
    "from pathlib import Path \n",
    "\n",
    "ls = [str(s) for s in Path( \"/home/jonfrey/Datasets/scannet/scans/scene0000_00/color/\" ).rglob(\"*.jpg\") if int((str(s).split('/')[-1][:-4]))% 10 == 0   ]##\n",
    "ls.sort(key= lambda x: int(x.split('/')[-1][:-4]))\n",
    "\n",
    "ls = ls[int(len(ls)*0.8):]"
   ]
  },
  {
   "cell_type": "code",
   "execution_count": null,
   "id": "84dceee6",
   "metadata": {},
   "outputs": [],
   "source": [
    "import os\n",
    "import sys \n",
    "os.chdir(os.path.join(os.getenv('HOME'), 'ASL'))\n",
    "sys.path.insert(0, os.getcwd())\n",
    "sys.path.append(os.path.join(os.getcwd() + '/src'))\n",
    "from utils_asl import LabelLoaderAuto\n",
    "import numpy as np"
   ]
  },
  {
   "cell_type": "code",
   "execution_count": null,
   "id": "c32c3c08",
   "metadata": {},
   "outputs": [],
   "source": [
    "from visu import Visualizer\n",
    "import imageio\n",
    "visu_active = False\n",
    "visu = Visualizer(os.getenv('HOME')+'/tmp', logger=None, epoch=0, store=True, num_classes=41)"
   ]
  },
  {
   "cell_type": "code",
   "execution_count": null,
   "id": "19b9f933",
   "metadata": {},
   "outputs": [],
   "source": [
    "label_loader = LabelLoaderAuto(root_scannet= \"/home/jonfrey/Datasets/scannet\", confidence=0)\n"
   ]
  },
  {
   "cell_type": "code",
   "execution_count": null,
   "id": "9352cb95",
   "metadata": {},
   "outputs": [],
   "source": [
    "nr_labels = 3\n",
    "\n",
    "paths = np.zeros( (len(ls),nr_labels), dtype=object )\n",
    "names = [\"gt\", \"detectron_test_new_format\", \"pretrain25k\"]\n",
    "\n",
    "for i, l in enumerate( ls ):\n",
    "    paths[i,0] = l.replace('color','label-filt').replace('jpg','png')\n",
    "    \n",
    "    base = \"/home/jonfrey/Datasets/labels_generated/\"\n",
    "    scene = l.split('/')[-3]\n",
    "    idx = l.split('/')[-1][:-4]\n",
    "    \n",
    "    idf = \"detectron_test_new_format\"\n",
    "    paths[i,1] = os.path.join( base, idf, \"scans\", scene, idf, idx+ '.png')\n",
    "    \n",
    "    idf = \"pretrain25k\"\n",
    "    paths[i,2] = os.path.join( base, idf, \"scans\", scene, idf, idx+ '.png')"
   ]
  },
  {
   "cell_type": "code",
   "execution_count": null,
   "id": "3c00e24c",
   "metadata": {},
   "outputs": [],
   "source": [
    "from utils_asl import png_to_label\n",
    "count = 400\n",
    "\n",
    "acc1 = [ [] for l in range( nr_labels ) ]\n",
    "acc2 = [ [] for l in range( nr_labels ) ]\n",
    "for i in range(paths.shape[0]):\n",
    "    gt,mode = label_loader.get(paths[i,0])\n",
    "    print( i,\"/\", paths.shape[0])\n",
    "    for j in range( 0,paths.shape[1] ):\n",
    "        out,mode  = label_loader.get(paths[i,j])\n",
    "        \n",
    "        m = gt != -1\n",
    "        ac = (gt[m] == out[m]).sum() / m.sum()\n",
    "        \n",
    "        acc1[j].append( float( ac ) )\n",
    "        \n",
    "        m = (gt != 0) * ( out != 0 )\n",
    "        \n",
    "        ac = (gt[m] == out[m]).sum() / m.sum()\n",
    "        acc2[j].append( ac )\n",
    "        \n",
    "        print(acc1[j][-1], names[j] )\n",
    "        \n",
    "        if visu_active:\n",
    "            img = imageio.imread( ls[i] )\n",
    "            visu.plot_detectron( img = img, label = out, tag='test', jupyter=True, store=False,alpha=0.3)\n"
   ]
  },
  {
   "cell_type": "code",
   "execution_count": null,
   "id": "e2db24db",
   "metadata": {},
   "outputs": [],
   "source": [
    "label_loader = LabelLoaderAuto(root_scannet= \"/home/jonfrey/Datasets/scannet\", confidence=0.7)\n",
    "\n",
    "label, _ = label_loader.get(\"/home/jonfrey/Datasets/labels_generated/label_pretrain25k_reprojected/scene0000_00/label_pretrain25k_reprojected/map_probs_with_confidence_0.5/0.png\")\n",
    "visu.plot_detectron( img = np.ones( (label.shape[0],label.shape[1],3)), label = label, tag='test', jupyter=True, store=False,alpha=0.3)"
   ]
  },
  {
   "cell_type": "code",
   "execution_count": null,
   "id": "10e1aa90",
   "metadata": {},
   "outputs": [],
   "source": [
    "import numpy as np\n",
    "for j in range(nr_labels):\n",
    "    print( \"ACC1\", names[j], np.array( acc1[j] ).mean())\n",
    "    \n",
    "print(\"\")\n",
    "for j in range(nr_labels):    \n",
    "    print( \"ACC2\", names[j], np.array( acc2[j] ).mean())"
   ]
  },
  {
   "cell_type": "code",
   "execution_count": null,
   "id": "7cd69105",
   "metadata": {},
   "outputs": [],
   "source": [
    "label_loader = LabelLoaderAuto(root_scannet= \"/home/jonfrey/Datasets/scannet\", confidence=0.7)\n",
    "\n",
    "path =\"/home/jonfrey/tmp/test.png\"\n",
    "label, _ = label_loader.get(\"/home/jonfrey/Datasets/labels_generated/label_pretrain25k_reprojected/scene0000_00/label_pretrain25k_reprojected/map_probs_with_confidence_0.5/0.png\")\n",
    "label.shape\n",
    "\n",
    "a = np.zeros( (*label.shape,4) )\n",
    "a[:,:,0] = label\n",
    "a[:,:,1] = label\n",
    "a = np.uint8(a)\n"
   ]
  },
  {
   "cell_type": "code",
   "execution_count": null,
   "id": "8b31f41c",
   "metadata": {},
   "outputs": [],
   "source": [
    "pa1 = \"/home/jonfrey/Datasets/labels_generated/label_pretrain25k_reprojected/scene0000_01/label_pretrain25k_reprojected/map_probs_with_confidence_0.5/0.png\"\n",
    "img = imageio.imread(pa1, format='PNG-FI')"
   ]
  },
  {
   "cell_type": "code",
   "execution_count": null,
   "id": "ed01dc39",
   "metadata": {},
   "outputs": [],
   "source": [
    "%%timeit\n",
    "imageio.imwrite(path, img,  format='PNG-FI', compression=9) "
   ]
  },
  {
   "cell_type": "code",
   "execution_count": null,
   "id": "26939408",
   "metadata": {},
   "outputs": [],
   "source": [
    "%%timeit\n",
    "img2 = imageio.imread(path, format='PNG-FI')"
   ]
  },
  {
   "cell_type": "code",
   "execution_count": null,
   "id": "24471918",
   "metadata": {},
   "outputs": [],
   "source": [
    "os.path.getsize( pa1 ) > 5000000"
   ]
  }
 ],
 "metadata": {
  "kernelspec": {
   "display_name": "track4",
   "language": "python",
   "name": "track4"
  },
  "language_info": {
   "codemirror_mode": {
    "name": "ipython",
    "version": 3
   },
   "file_extension": ".py",
   "mimetype": "text/x-python",
   "name": "python",
   "nbconvert_exporter": "python",
   "pygments_lexer": "ipython3",
   "version": "3.8.5"
  }
 },
 "nbformat": 4,
 "nbformat_minor": 5
}
