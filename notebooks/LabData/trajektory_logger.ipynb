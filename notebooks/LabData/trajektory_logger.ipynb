{
 "cells": [
  {
   "cell_type": "code",
   "execution_count": null,
   "id": "0f251ed0",
   "metadata": {},
   "outputs": [],
   "source": []
  },
  {
   "cell_type": "code",
   "execution_count": null,
   "id": "6e0dc082",
   "metadata": {},
   "outputs": [],
   "source": [
    "from trajectory_msgs.msg import JointTrajectory as RosJointTrajectory\n",
    "from geometry_msgs.msg import Pose as RosPose\n",
    "from visualization_msgs.msg import Marker as RosMarker\n",
    "import rospy\n",
    "import numpy as np\n",
    "import copy \n",
    "import tf\n",
    "import rospy\n",
    "        \n",
    "class TrajektoryLoggerNode():\n",
    "    def __init__(self):\n",
    "        rospy.init_node('trajektory_logger_node')\n",
    "\n",
    "        self.pub = rospy.Publisher('/path', RosMarker, queue_size=10)\n",
    "        \n",
    "        self.listener = tf.TransformListener()\n",
    "        self.n = 0\n",
    "        self.po = RosPose()\n",
    "        self.po.orientation.w = 1\n",
    "        self.r = rospy.Rate(10)\n",
    "        self.n_max = 100\n",
    "        \n",
    "        rm = RosMarker()\n",
    "        rm.header.frame_id = \"world\"\n",
    "        rm.header.stamp = rospy.get_rostime() \n",
    "        rm.color.g = 255\n",
    "        rm.color.a = 255\n",
    "        rm.lifetime.secs = 30\n",
    "        rm.scale.x = 1\n",
    "        rm.scale.y = 0.1\n",
    "        rm.scale.z = 0.1 \n",
    "        self.rm = rm\n",
    "        \n",
    "    def run(self):\n",
    "        print(\"Running\")\n",
    "        # self.pub_pose.publish(self.po)\n",
    "        try:\n",
    "            (trans,rot) = self.listener.lookupTransform('/world', '/pickelhaubeimu_link', rospy.get_rostime())\n",
    "            print(rot)\n",
    "            self.rm.pose.position.x,\\\n",
    "            self.rm.pose.position.y,\\\n",
    "            self.rm.pose.position.z= trans[0],trans[1],trans[2]\n",
    "            \n",
    "            self.rm.pose.orientation.x,\\\n",
    "            self.rm.pose.orientation.y,\\\n",
    "            self.rm.pose.orientation.z, \\\n",
    "            self.rm.pose.orientation.w = rot[0],rot[1],rot[2],rot[3]\n",
    "            \n",
    "            \n",
    "        except (tf.LookupException, tf.ConnectivityException, tf.ExtrapolationException):\n",
    "            pass\n",
    "        print(self.rm)\n",
    "        self.rm.id = self.n\n",
    "        self.pub.publish( self.rm)\n",
    "        self.n += 1 \n",
    "        self.n = self.n % self.n_max\n",
    "        self.r.sleep()\n",
    "       \n",
    "        \n",
    "tln = TrajektoryLoggerNode()\n",
    "\n",
    "print(\"STARTED\", rospy.is_shutdown())\n",
    "while not rospy.is_shutdown():\n",
    "    tln.run()\n",
    "    print(\"Run\")"
   ]
  },
  {
   "cell_type": "code",
   "execution_count": null,
   "id": "9611f4a0",
   "metadata": {},
   "outputs": [],
   "source": [
    "from visualization_msgs.msg import Marker as RosMarker\n",
    "rm = RosMarker()\n",
    "rm.header.frame_id = \"world\"\n",
    "rm.header.stamp = rospy.get_rostime() \n",
    "rm.color.g = 255\n",
    "rm.lifetime.secs = 30\n"
   ]
  },
  {
   "cell_type": "code",
   "execution_count": null,
   "id": "b300c3c6",
   "metadata": {},
   "outputs": [],
   "source": [
    "\n",
    "rm.scale.serialize_numpy(np.array([1,2,3]))\n",
    "dir( rm.scale )\n"
   ]
  }
 ],
 "metadata": {
  "kernelspec": {
   "display_name": "Python 3",
   "language": "python",
   "name": "python3"
  },
  "language_info": {
   "codemirror_mode": {
    "name": "ipython",
    "version": 3
   },
   "file_extension": ".py",
   "mimetype": "text/x-python",
   "name": "python",
   "nbconvert_exporter": "python",
   "pygments_lexer": "ipython3",
   "version": "3.8.5"
  }
 },
 "nbformat": 4,
 "nbformat_minor": 5
}
