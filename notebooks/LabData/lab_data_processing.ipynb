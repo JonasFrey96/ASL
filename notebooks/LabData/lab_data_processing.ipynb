{
 "cells": [
  {
   "cell_type": "code",
   "execution_count": null,
   "metadata": {},
   "outputs": [],
   "source": [
    "import bagpy\n",
    "from bagpy import bagreader\n",
    "import pandas as pd\n",
    "b = bagreader('/media/scratch2/jonfrey/datasets/labdata/output_file2.bag')"
   ]
  },
  {
   "cell_type": "code",
   "execution_count": null,
   "metadata": {},
   "outputs": [],
   "source": []
  },
  {
   "cell_type": "code",
   "execution_count": null,
   "metadata": {},
   "outputs": [],
   "source": [
    "dir(b)\n",
    "#b.message_types"
   ]
  },
  {
   "cell_type": "code",
   "execution_count": null,
   "metadata": {},
   "outputs": [],
   "source": [
    "import os\n",
    "os.system('export PYTHON_PATH=/home/jonfrey/miniconda3/envs/track3/bin/python')\n"
   ]
  },
  {
   "cell_type": "code",
   "execution_count": null,
   "metadata": {},
   "outputs": [],
   "source": [
    "import cv2\n",
    "from cv_bridge.boost.cv_bridge_boost import getCvType"
   ]
  },
  {
   "cell_type": "code",
   "execution_count": null,
   "metadata": {},
   "outputs": [],
   "source": [
    "b.topic_table"
   ]
  },
  {
   "cell_type": "code",
   "execution_count": null,
   "metadata": {},
   "outputs": [],
   "source": [
    "from sensor_msgs.msg import Image\n",
    "import cv2\n",
    "import numpy as np\n",
    "for j, res  in enumerate( b.reader.read_messages(topics=['/versavis/cam2/image_raw'])):\n",
    "    topic, msg, t = res\n",
    "    print(msg.height)\n",
    "    if j > 10:\n",
    "        break\n"
   ]
  },
  {
   "cell_type": "code",
   "execution_count": null,
   "metadata": {},
   "outputs": [],
   "source": [
    "dir(cmprs_img_msg.height)"
   ]
  },
  {
   "cell_type": "code",
   "execution_count": null,
   "metadata": {},
   "outputs": [],
   "source": [
    "data = b.message_by_topic('/versavis/cam2/image_raw')[0]"
   ]
  },
  {
   "cell_type": "code",
   "execution_count": null,
   "metadata": {},
   "outputs": [],
   "source": [
    "\n",
    "import os\n",
    "import argparse\n",
    "\n",
    "import cv2\n",
    "\n",
    "import rosbag\n",
    "from sensor_msgs.msg import Image\n",
    "from cv_bridge import CvBridge\n",
    "\n",
    "\"\"\"Extract a folder of images from a rosbag.\n",
    "\"\"\"\n",
    "parser = argparse.ArgumentParser(description=\"Extract images from a ROS bag.\")\n",
    "parser.add_argument(\"bag_file\", help=\"Input ROS bag.\")\n",
    "parser.add_argument(\"output_dir\", help=\"Output directory.\")\n",
    "parser.add_argument(\"image_topic\", help=\"Image topic.\")\n",
    "\n",
    "args = parser.parse_args()\n",
    "\n",
    "print \"Extract images from %s on topic %s into %s\" % (args.bag_file,\n",
    "                                                      args.image_topic, args.output_dir)\n",
    "\n",
    "bag = rosbag.Bag(args.bag_file, \"r\")\n",
    "bridge = CvBridge()\n",
    "count = 0\n",
    "for topic, msg, t in bag.read_messages(topics=[args.image_topic]):\n",
    "    cv_img = bridge.imgmsg_to_cv2(msg, desired_encoding=\"passthrough\")\n",
    "\n",
    "    cv2.imwrite(os.path.join(args.output_dir, \"frame%06i.png\" % count), cv_img)\n",
    "    print \"Wrote image %i\" % count\n",
    "\n",
    "    count += 1\n",
    "\n",
    "bag.close()\n",
    "\n"
   ]
  }
 ],
 "metadata": {
  "kernelspec": {
   "display_name": "Python 3",
   "language": "python",
   "name": "python3"
  },
  "language_info": {
   "codemirror_mode": {
    "name": "ipython",
    "version": 3
   },
   "file_extension": ".py",
   "mimetype": "text/x-python",
   "name": "python",
   "nbconvert_exporter": "python",
   "pygments_lexer": "ipython3",
   "version": "3.8.5"
  }
 },
 "nbformat": 4,
 "nbformat_minor": 4
}
