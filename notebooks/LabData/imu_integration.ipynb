{
 "cells": [
  {
   "cell_type": "code",
   "execution_count": 1,
   "id": "3817b3d2",
   "metadata": {},
   "outputs": [],
   "source": [
    "# 𝑎(𝑡) = 𝑅𝑊𝐵(𝑡)( 𝑎_tilde − 𝑏 𝑡 ) + g"
   ]
  },
  {
   "cell_type": "code",
   "execution_count": 2,
   "id": "0453cf56",
   "metadata": {},
   "outputs": [],
   "source": [
    "import rospy\n",
    "rospy.init_node(\"imu_unbiaser\")"
   ]
  },
  {
   "cell_type": "code",
   "execution_count": null,
   "id": "71c3f3b1",
   "metadata": {},
   "outputs": [
    {
     "name": "stderr",
     "output_type": "stream",
     "text": [
      "<ipython-input-3-be1eb295e1a2>:19: SyntaxWarning: The publisher should be created with an explicit keyword argument 'queue_size'. Please see http://wiki.ros.org/rospy/Overview/Publishers%20and%20Subscribers for more information.\n",
      "  pub = rospy.Publisher(\"/imu_unbiaser/imu\", Imu)\n"
     ]
    }
   ],
   "source": [
    "import rospy\n",
    "import tf\n",
    "from scipy.spatial.transform import Rotation as R\n",
    "import numpy as np\n",
    "from std_msgs.msg import Float64MultiArray\n",
    "from sensor_msgs.msg import Imu\n",
    "from nav_msgs.msg import Odometry\n",
    "listener = tf.TransformListener()\n",
    "\n",
    "g = np.array( [0,0,-9.81] )\n",
    "\n",
    "odo_m, imu_m, bias_m = [None,], [None,],[None,]\n",
    "def callback_store(msg, inp):\n",
    "    inp[0] = msg\n",
    "rospy.Subscriber(\"/kimera_vio_ros/odometry\", Odometry, callback_store, odo_m )\n",
    "rospy.Subscriber(\"/kimera_vio_ros/imu_bias\", Float64MultiArray, callback_store, bias_m)\n",
    "rospy.Subscriber(\"/versavis/imu\", Imu, callback_store, imu_m)\n",
    "\n",
    "pub = rospy.Publisher(\"/imu_unbiaser/imu\", Imu)\n",
    "\n",
    "import os\n",
    "\n",
    "os.system(\"rosbag play --clock --rate=0.2 -s 5 -u 60 /home/jonfrey/Datasets/labdata/2021-06-17-17-56-33.bag &\")\n",
    "os.system(\"rosservice call /kimera_vio_ros/kimera_vio_ros_node/restart_kimera_vio &\")\n",
    "\n",
    "r = rospy.Rate(200)\n",
    "imu_msg = Imu()\n",
    "\n",
    "count_no_new_imu = 0\n",
    "while not rospy.is_shutdown():\n",
    "    try:\n",
    "        if not odo_m[0] is None and not imu_m[0] is None and not bias_m[0] is None:\n",
    "            rot = np.array( [ odo_m[0].pose.pose.orientation.x,\n",
    "                             odo_m[0].pose.pose.orientation.y,\n",
    "                             odo_m[0].pose.pose.orientation.z,\n",
    "                             odo_m[0].pose.pose.orientation.w ] )\n",
    "            # print(rot)\n",
    "            R_WB = R.from_quat(rot).as_matrix() \n",
    "\n",
    "            a = np.array( [ imu_m[0].linear_acceleration.x,\n",
    "                           imu_m[0].linear_acceleration.y,\n",
    "                           imu_m[0].linear_acceleration.z] ) \n",
    "            b = np.array( bias_m[0].data[3:])\n",
    "\n",
    "            la = (np.linalg.inv( R_WB ) @ (a-b)) + g             \n",
    "\n",
    "            if imu_msg.header.seq != imu_m[0].header.seq:\n",
    "                imu_msg = imu_m[0]\n",
    "                imu_msg.header.frame_id = \"pickelhaubeimu_link\"\n",
    "                imu_msg.linear_acceleration.x = la[0]\n",
    "                imu_msg.linear_acceleration.y = la[1]\n",
    "                imu_msg.linear_acceleration.z = la[2]\n",
    "                pub.publish(imu_msg)\n",
    "                count_no_new_imu = 0\n",
    "            else:\n",
    "                count_no_new_imu += 1\n",
    "        r.sleep()\n",
    "        \n",
    "    except rospy.exceptions.ROSTimeMovedBackwardsException as e:\n",
    "            print(\"Ignore time moved backwards! \")\n",
    "            break\n",
    "            \n",
    "    if count_no_new_imu > 500:\n",
    "                break\n",
    "print(\"Done\")"
   ]
  }
 ],
 "metadata": {
  "kernelspec": {
   "display_name": "Python 3",
   "language": "python",
   "name": "python3"
  },
  "language_info": {
   "codemirror_mode": {
    "name": "ipython",
    "version": 3
   },
   "file_extension": ".py",
   "mimetype": "text/x-python",
   "name": "python",
   "nbconvert_exporter": "python",
   "pygments_lexer": "ipython3",
   "version": "3.8.5"
  }
 },
 "nbformat": 4,
 "nbformat_minor": 5
}
