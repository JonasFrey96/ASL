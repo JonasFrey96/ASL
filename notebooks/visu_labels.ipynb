{
 "cells": [
  {
   "cell_type": "code",
   "execution_count": null,
   "id": "invisible-document",
   "metadata": {},
   "outputs": [],
   "source": [
    "import sys\n",
    "import os\n",
    "sys.path.append(\"\"\"/home/jonfrey/ASL/src\"\"\")\n",
    "os.chdir(\"/home/jonfrey/ASL\")\n",
    "\n",
    "import torch\n",
    "import numpy as np\n",
    "from PIL import Image\n",
    "import imageio\n",
    "import pickle\n",
    "from visu import Visualizer\n",
    "from PIL import ImageDraw, ImageFont\n",
    "from torchvision import transforms as tf"
   ]
  },
  {
   "cell_type": "code",
   "execution_count": null,
   "id": "bored-participation",
   "metadata": {},
   "outputs": [],
   "source": [
    "visu = Visualizer(os.getenv('HOME')+'/tmp', logger=None, epoch=0, store=False, num_classes=41)"
   ]
  },
  {
   "cell_type": "code",
   "execution_count": null,
   "id": "assigned-stroke",
   "metadata": {},
   "outputs": [],
   "source": [
    "H,W = 640, 1280\n",
    "with open('/home/jonfrey/ASL/cfg/dataset/mappings/coco_nyu.pkl', 'rb') as handle:\n",
    "    mappings = pickle.load(handle)\n",
    "print( mappings.keys() )"
   ]
  },
  {
   "cell_type": "code",
   "execution_count": null,
   "id": "worthy-confirmation",
   "metadata": {},
   "outputs": [],
   "source": [
    "col = np.zeros( (200,1000) )\n",
    "for i in range(0,40):\n",
    "    w_ = int(i/4)* 100\n",
    "    w__ = w_+100\n",
    "    h_ = (i%4)*50\n",
    "    h__ = h_+50\n",
    "    col[h_:h__,w_:w__ ] = i+1\n",
    "    \n",
    "r= visu.plot_segmentation(seg=col)\n",
    "img = Image.fromarray(r)\n",
    "d = ImageDraw.Draw(img)\n",
    "\n",
    "fnt = ImageFont.truetype(\"/usr/share/fonts/truetype/DejaVuSansMono.ttf\", 10)                         \n",
    "for i in range(0,40):\n",
    "    w_ = int(i/4)* 100 + 10\n",
    "    h_ = (i%4)*50 + 20\n",
    "    d.text((w_,h_), list(mappings['nyu_name_id'].keys())[i+1], font=fnt, fill=(255,255,255))\n",
    "\n",
    "display(img)"
   ]
  },
  {
   "cell_type": "code",
   "execution_count": null,
   "id": "conscious-simpson",
   "metadata": {},
   "outputs": [],
   "source": [
    "from pseudo_label import PseudoLabelGenerator\n",
    "plg = PseudoLabelGenerator(visu=visu,visu_active=False)\n",
    "from pseudo_label import readSegmentation\n",
    "pred, target, valid = readSegmentation(\"/home/jonfrey/results/scannet_eval/run_24h_train_1gpu/scannet/scene0000_00/segmentation_deeblab_v3/50.png\")\n",
    "r= visu.plot_segmentation(seg=pred,jupyter=True)\n",
    "r= visu.plot_segmentation(seg=target,jupyter=True)"
   ]
  },
  {
   "cell_type": "code",
   "execution_count": null,
   "id": "amino-terrace",
   "metadata": {},
   "outputs": [],
   "source": [
    "from sklearn.metrics import confusion_matrix\n",
    "conf = confusion_matrix(target.flatten(), pred.flatten(), labels=np.arange(40))\n",
    "r= visu.plot_nyu_confusion_matrix(conf ,jupyter=True)"
   ]
  },
  {
   "cell_type": "code",
   "execution_count": null,
   "id": "august-admission",
   "metadata": {},
   "outputs": [],
   "source": [
    "import matplotlib\n",
    "import matplotlib.pyplot as plt\n",
    "from matplotlib import cm\n",
    "from visu import SCANNET_COLOR_MAP\n",
    "import matplotlib.patches as patches\n",
    "\n",
    "def plot_nyu_confusion_matrix(self, conf):\n",
    "    label_y = [ str(i) for i in range(conf.shape[0]+1)]\n",
    "    label_x = [ str(i) for i in range(conf.shape[1]+1)]\n",
    "    fig, ax = plt.subplots( figsize=(10,10))\n",
    "    conf_expa = np.zeros((conf.shape[0]+1,conf.shape[1]+1))\n",
    "    conf_expa[:conf.shape[0],:conf.shape[1]] = conf\n",
    "\n",
    "    diago = np.eye(conf_expa.shape[0],dtype=bool)\n",
    "    conf_expa[diago==False] *= -1\n",
    "    fac = -conf_expa.max()/conf_expa.min()\n",
    "    conf_expa[diago==False] *= fac\n",
    "    im = ax.imshow(conf_expa,cmap=cm.get_cmap('PiYG'))\n",
    "\n",
    "    for i in range( len(label_y)):\n",
    "        v = SCANNET_COLOR_MAP[i]\n",
    "        vals= (v[0]/255,v[1]/255,v[2]/255,1)\n",
    "        rect = patches.Rectangle((i-0.5, -0.5), 1, 1, linewidth=1, edgecolor=None, facecolor= vals )\n",
    "        rect2 = patches.Rectangle((0-0.5, i-0.5), 1, 1, linewidth=1, edgecolor=None, facecolor= vals )\n",
    "        ax.add_patch(rect)\n",
    "        ax.add_patch(rect2)\n",
    "\n",
    "    ax.set_xticks(np.arange(len(label_x)))\n",
    "    ax.set_yticks(np.arange(len(label_y)))\n",
    "    ax.set_xticklabels(list(mappings['nyu_name_id'].keys())[:])\n",
    "    ax.set_yticklabels(list(mappings['nyu_name_id'].keys())[:])\n",
    "\n",
    "    ax.xaxis.tick_top()\n",
    "    ax.set_axisbelow(True)\n",
    "    ax.yaxis.grid(color='gray', linestyle='dashed')\n",
    "    ax.xaxis.grid(color='gray', linestyle='dashed')\n",
    "\n",
    "    plt.setp(ax.get_xticklabels(), rotation=45, ha=\"left\",\n",
    "              rotation_mode=\"anchor\")\n",
    "    ax.set_title(\"Confusion Matrix NYU Labels\")\n",
    "    plt.show()"
   ]
  },
  {
   "cell_type": "code",
   "execution_count": null,
   "id": "enormous-injury",
   "metadata": {},
   "outputs": [],
   "source": [
    "conf.shape"
   ]
  }
 ],
 "metadata": {
  "kernelspec": {
   "display_name": "track4",
   "language": "python",
   "name": "track4"
  },
  "language_info": {
   "codemirror_mode": {
    "name": "ipython",
    "version": 3
   },
   "file_extension": ".py",
   "mimetype": "text/x-python",
   "name": "python",
   "nbconvert_exporter": "python",
   "pygments_lexer": "ipython3",
   "version": "3.7.4"
  }
 },
 "nbformat": 4,
 "nbformat_minor": 5
}
