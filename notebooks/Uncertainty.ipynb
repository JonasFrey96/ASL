{
 "cells": [
  {
   "cell_type": "code",
   "execution_count": 36,
   "metadata": {},
   "outputs": [
    {
     "name": "stdout",
     "output_type": "stream",
     "text": [
      "tensor([0.0009, 0.0009, 0.0009, 0.0009, 0.0009, 0.0009, 0.0009, 0.0009, 0.0009,\n",
      "        0.0009, 0.0009, 0.0009, 0.0009, 0.0009, 0.0009, 0.0009]) should be very low\n",
      "tensor([0.9982, 0.9982, 0.9982, 0.9982, 0.9982, 0.9982, 0.9982, 0.9982, 0.9982,\n",
      "        0.9982, 0.9982, 0.9982, 0.9982, 0.9982, 0.9982, 0.9982]) should be nearly 0\n",
      "tensor([0.7604, 0.7604, 0.7604, 0.7604, 0.7604, 0.7604, 0.7604, 0.7604, 0.7604,\n",
      "        0.7604, 0.7604, 0.7604, 0.7604, 0.7604, 0.7604, 0.7604]) should be betweem 0-1\n"
     ]
    }
   ],
   "source": [
    "import torch\n",
    "\n",
    "def get_softmax_uncertaintiy_distance(pred):\n",
    "    \"\"\"\n",
    "    pred: BS,C,H,W before softmax is applied! \n",
    "    \n",
    "    distance between sec and first element\n",
    "    # 1 if fully uncertain -> 2th best pixel estimate = 1th best pixel estimate, for all pixels\n",
    "    # 0 if absolutly confident for all pixels. One class probability 1, 2th best class probability 0, for all pixels\n",
    "    \"\"\"\n",
    "    BS,C,H,W = pred.shape\n",
    "    argm1 = torch.argmax(pred, 1)\n",
    "    soft1 = torch.nn.functional.softmax(pred, dim=1)\n",
    "\n",
    "    onehot_argm1 = torch.nn.functional.one_hot(argm1, num_classes=C).permute(0,3,1,2).type(torch.bool)\n",
    "    ten2 = pred.clone()\n",
    "    ten2[ onehot_argm1 ] = 0\n",
    "\n",
    "    argm2 = torch.argmax(ten2, 1)\n",
    "    onehot_argm2 = torch.nn.functional.one_hot(argm2, num_classes=C).permute(0,3,1,2).type(torch.bool)\n",
    "    res = [] \n",
    "\n",
    "    soft1 = soft1.permute(0,2,3,1)\n",
    "    onehot_argm1 = onehot_argm1.permute(0,2,3,1)\n",
    "    onehot_argm2 = onehot_argm2.permute(0,2,3,1)\n",
    "\n",
    "    for b in range(BS):\n",
    "        res_ = soft1[b][onehot_argm1[b]] - soft1[b][onehot_argm2[b]]\n",
    "        res.append( res_.mean() )\n",
    "        # print(res_.min(),res_.max())\n",
    "\n",
    "    return torch.tensor(res, dtype=pred.dtype, device=pred.device)\n",
    "\n",
    "\n",
    "def test():\n",
    "    BS,C,H,W = 16,40,300,320\n",
    "    pred = torch.rand( ( BS,C,H,W) )\n",
    "    res = get_softmax_uncertaintiy_distance(pred)\n",
    "    print(res, \"should be very low\")\n",
    "    \n",
    "    pred = torch.rand( ( BS,C,H,W) ) /1000\n",
    "    pred[:,0,:,:] = 10\n",
    "    res = get_softmax_uncertaintiy_distance(pred)\n",
    "    print(res, 'should be nearly 0')\n",
    "    \n",
    "    pred[:,1,:,:] = 8\n",
    "    res = get_softmax_uncertaintiy_distance(pred)\n",
    "    print(res, 'should be betweem 0-1')\n",
    "    \n",
    "\n",
    "test()\n",
    "    "
   ]
  },
  {
   "cell_type": "code",
   "execution_count": 46,
   "metadata": {},
   "outputs": [
    {
     "name": "stdout",
     "output_type": "stream",
     "text": [
      "tensor([0.0387, 0.0387, 0.0387, 0.0387, 0.0387, 0.0387, 0.0387, 0.0387, 0.0387,\n",
      "        0.0387, 0.0387, 0.0387, 0.0387, 0.0387, 0.0387, 0.0387]) should be very low\n",
      "tensor([0.9982, 0.9982, 0.9982, 0.9982, 0.9982, 0.9982, 0.9982, 0.9982, 0.9982,\n",
      "        0.9982, 0.9982, 0.9982, 0.9982, 0.9982, 0.9982, 0.9982]) should be nearly 0\n",
      "tensor([0.8795, 0.8795, 0.8795, 0.8795, 0.8795, 0.8795, 0.8795, 0.8795, 0.8795,\n",
      "        0.8795, 0.8795, 0.8795, 0.8795, 0.8795, 0.8795, 0.8795]) should be betweem 0-1\n"
     ]
    }
   ],
   "source": [
    "ten = torch.rand( ( BS,C,H,W) )\n",
    "def get_softmax_uncertaintiy_max(pred):\n",
    "    \"\"\"\n",
    "    pred: BS,C,H,W before softmax is applied! \n",
    "    \n",
    "    (1 - max( softmax(pred))) mean over batch size\n",
    "    \n",
    "    # 1 if fully uncertain\n",
    "    # 0 if absolutly confident for all pixels\n",
    "    \"\"\"\n",
    "    BS,C,H,W = pred.shape\n",
    "    \n",
    "    argm1 = torch.argmax(pred, 1)\n",
    "    soft1 = torch.nn.functional.softmax(pred, dim=1)\n",
    "    onehot_argm1 = torch.nn.functional.one_hot(argm1, num_classes=C).permute(0,3,1,2).type(torch.bool)\n",
    "    \n",
    "    soft1 = soft1.permute(0,2,3,1)\n",
    "    onehot_argm1 = onehot_argm1.permute(0,2,3,1)\n",
    "    \n",
    "    res = []\n",
    "    for b in range(BS):\n",
    "        res_ = soft1[b][onehot_argm1[b]]\n",
    "        res.append( torch.mean(res_)  )\n",
    "#     print(res)\n",
    "    return torch.tensor(res, dtype=pred.dtype, device=pred.device)\n",
    "\n",
    "def test():\n",
    "    BS,C,H,W = 16,40,300,320\n",
    "    pred = torch.rand( ( BS,C,H,W) )\n",
    "    res = get_softmax_uncertaintiy_max(pred)\n",
    "    print(res, \"should be very low\")\n",
    "    \n",
    "    pred = torch.rand( ( BS,C,H,W) ) /1000\n",
    "    pred[:,0,:,:] = 10\n",
    "    res = get_softmax_uncertaintiy_max(pred)\n",
    "    print(res, 'should be nearly 0')\n",
    "    \n",
    "    pred[:,1,:,:] = 8\n",
    "    res = get_softmax_uncertaintiy_max(pred)\n",
    "    print(res, 'should be betweem 0-1')\n",
    "    \n",
    "\n",
    "test()"
   ]
  },
  {
   "cell_type": "code",
   "execution_count": null,
   "metadata": {},
   "outputs": [],
   "source": [
    "onehot_sel = torch.nn.functional.one_hot(sel, num_classes=C).permute(0,3,1,2)\n",
    "ten2[ onehot_sel ] = 0\n",
    "\n",
    "#ten2[soft] = 0"
   ]
  },
  {
   "cell_type": "code",
   "execution_count": 56,
   "metadata": {},
   "outputs": [
    {
     "name": "stdout",
     "output_type": "stream",
     "text": [
      "tensor([70, 98])\n"
     ]
    }
   ],
   "source": [
    "ten = torch.rand( ( 100 ) )\n",
    "res = torch.topk( ten, 2 )\n",
    "res.values\n",
    "\n",
    "res.indices.shape\n",
    "print( res.indices )\n",
    "#torch.topk(input, buffer_size, dim=None, largest=True, sorted=True, *, out=None)"
   ]
  }
 ],
 "metadata": {
  "kernelspec": {
   "display_name": "track3",
   "language": "python",
   "name": "track3"
  },
  "language_info": {
   "codemirror_mode": {
    "name": "ipython",
    "version": 3
   },
   "file_extension": ".py",
   "mimetype": "text/x-python",
   "name": "python",
   "nbconvert_exporter": "python",
   "pygments_lexer": "ipython3",
   "version": "3.7.4"
  }
 },
 "nbformat": 4,
 "nbformat_minor": 4
}
