{
 "cells": [
  {
   "cell_type": "code",
   "execution_count": null,
   "metadata": {},
   "outputs": [],
   "source": [
    "from pytorch_lightning.loggers.neptune import NeptuneLogger\n",
    "import os\n",
    "import os \n",
    "import sys \n",
    "sys.path.insert(0, os.getcwd())\n",
    "sys.path.append(os.path.join('/home/jonfrey/ASL' + '/src'))\n",
    "\n",
    "logger = NeptuneLogger(\n",
    "          api_key=os.environ[\"NEPTUNE_API_TOKEN\"],\n",
    "          project_name=\"jonasfrey96/asl\",\n",
    "          experiment_id='ASL-549',\n",
    "          close_after_fit = False,\n",
    "        )"
   ]
  },
  {
   "cell_type": "code",
   "execution_count": null,
   "metadata": {},
   "outputs": [],
   "source": []
  },
  {
   "cell_type": "code",
   "execution_count": null,
   "metadata": {},
   "outputs": [],
   "source": [
    "from visu import MainVisualizer\n",
    "import numpy as np\n",
    "\n",
    "main_visu = MainVisualizer( p_visu = '/home/jonfrey/tmp', \n",
    "                        logger=logger.experiment, epoch=3, store=True, num_classes=41 ) #logger.experiment\n",
    "\n",
    "\n",
    "\n"
   ]
  },
  {
   "cell_type": "code",
   "execution_count": null,
   "metadata": {},
   "outputs": [],
   "source": [
    "def validation_acc_plot(main_visu, logger):\n",
    "  try:\n",
    "    df_acc = logger.experiment.get_numeric_channels_values('val_acc/dataloader_idx_0','val_acc/dataloader_idx_1','val_acc/dataloader_idx_2','val_acc/dataloader_idx_3','task_count/dataloader_idx_0')\n",
    "    x = np.array(df_acc['task_count/dataloader_idx_0'])\n",
    "    \n",
    "    \n",
    "    task_nrs, where = np.unique( x, return_index=True )\n",
    "    task_nrs = task_nrs.astype(np.uint8).tolist()\n",
    "    where = where.tolist()[1:]\n",
    "    where = [w-1 for w in where]\n",
    "    where += [x.shape[0]-1]*int(4-len(where))\n",
    "    \n",
    "    names = [f'val_acc_{idx}' for idx in range(4)]\n",
    "    x =  np.arange(x.shape[0])\n",
    "    y = [np.array(df_acc[f'val_acc/dataloader_idx_{idx}']  ) for idx in range(4)]\n",
    "    arr = main_visu.plot_lines_with_bachground(\n",
    "        x, y, count=where,\n",
    "        x_label='Epoch', y_label='Acc', title='Validation Accuracy', \n",
    "        task_names=names, tag='Validation_Plot',jupyter=True)\n",
    "  except:\n",
    "    pass\n",
    "validation_acc_plot(main_visu, logger)"
   ]
  },
  {
   "cell_type": "code",
   "execution_count": null,
   "metadata": {},
   "outputs": [],
   "source": []
  }
 ],
 "metadata": {
  "kernelspec": {
   "display_name": "track3",
   "language": "python",
   "name": "track3"
  },
  "language_info": {
   "codemirror_mode": {
    "name": "ipython",
    "version": 3
   },
   "file_extension": ".py",
   "mimetype": "text/x-python",
   "name": "python",
   "nbconvert_exporter": "python",
   "pygments_lexer": "ipython3",
   "version": "3.7.4"
  }
 },
 "nbformat": 4,
 "nbformat_minor": 4
}
