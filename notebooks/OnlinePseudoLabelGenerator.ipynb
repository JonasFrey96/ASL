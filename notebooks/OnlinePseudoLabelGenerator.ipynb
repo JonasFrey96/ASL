{
 "cells": [
  {
   "cell_type": "code",
   "execution_count": null,
   "id": "qualified-married",
   "metadata": {},
   "outputs": [],
   "source": [
    "import sys\n",
    "import os\n",
    "os.chdir(\"/home/jonfrey/ASL\")\n",
    "sys.path.append(\"\"\"/home/jonfrey/ASL/src/\"\"\")\n",
    "sys.path.append(\"\"\"/home/jonfrey/ASL/src/pseudo_label\"\"\")\n",
    "try:\n",
    "\tfrom helper_functions import *\n",
    "except:\n",
    "\tfrom .helper_functions import *\n",
    "import numpy as np \n",
    "import os\n",
    "\n",
    "\n",
    "class PseudoLabelLoaderOnline():\n",
    "    def __init__(self, path_flow, image_paths, h=960, w=1280, sub=10, ignore_depth=False):\n",
    "        self.flow_paths = getPathsFlow(key=f\"/flow_sub_{sub}/\",base = base_path)\n",
    "        self.image_paths = self.image_paths \n",
    "        \n",
    "#     def getImage(self, index, dataset_path= '/home/jonfrey/datasets/scannet/scans'):\n",
    "#         di = self.global_to_local_idx[index]\n",
    "#         flow_p = self.flow_paths[di['flow_ids'][0]]\n",
    "#         x = flow_p.split('/')\n",
    "#         p = os.path.join( dataset_path , x[-3],'color' ,x[-1][:-4]+'.jpg')\n",
    "#         return readImage( filename=p, H=self.H, W=self.W )\n",
    "    \n",
    "    def __getitem__(self, seg, paths):\n",
    "        \n",
    "        for unique_identifier\n",
    "        \n",
    "            di = self.global_to_local_idx[index]\n",
    "            seg = []\n",
    "            flow = []\n",
    "            depth = []\n",
    "            paths = []\n",
    "            for i in range(len( di['seg_ids'] )):\n",
    "                flow.append( readFlowKITTI( self.flow_paths[di['flow_ids'][i]], H=self.H ,W=self.W))\n",
    "                seg.append( readSegmentation( self.segmentation_paths[di['seg_ids'][i]]))\n",
    "                if not self.ignore_depth:\n",
    "                    depth.append( readDepth( self.depth_paths[di['depth_ids'][i]]))\n",
    "                \n",
    "                l = self.flow_paths[di['flow_ids'][i]].split('/')\n",
    "                paths.append( os.path.join( 'scans',  l[-3], 'color', l[-1][:-4]+'.jpg' ) )\n",
    "\n",
    "            return seg, None, flow, None\n",
    "\n",
    "\n",
    "pll = PseudoLabelLoaderOnline(base = \"/home/jonfrey/results/scannet_pseudo_label\", window_size=5, sub=1, ignore_depth=True)"
   ]
  }
 ],
 "metadata": {
  "kernelspec": {
   "display_name": "track4",
   "language": "python",
   "name": "track4"
  },
  "language_info": {
   "codemirror_mode": {
    "name": "ipython",
    "version": 3
   },
   "file_extension": ".py",
   "mimetype": "text/x-python",
   "name": "python",
   "nbconvert_exporter": "python",
   "pygments_lexer": "ipython3",
   "version": "3.7.4"
  }
 },
 "nbformat": 4,
 "nbformat_minor": 5
}
