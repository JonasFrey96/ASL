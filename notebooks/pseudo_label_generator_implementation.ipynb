{
 "cells": [
  {
   "cell_type": "code",
   "execution_count": null,
   "id": "aware-power",
   "metadata": {},
   "outputs": [],
   "source": [
    "import torch\n",
    "import cv2\n",
    "import numpy as np\n",
    "from PIL import Image\n",
    "import imageio\n",
    "import sys\n",
    "import os\n",
    "sys.path.append(\"\"\"/home/jonfrey/ASL/src\"\"\")\n",
    "os.chdir(\"/home/jonfrey/ASL\")\n",
    "from pseudo_label import PseudoLabelGenerator\n",
    "from visu import Visualizer\n",
    "\n",
    "scannet = '/home/jonfrey/datasets/scannet/'"
   ]
  },
  {
   "cell_type": "code",
   "execution_count": null,
   "id": "rubber-rotation",
   "metadata": {},
   "outputs": [],
   "source": [
    "visu = Visualizer(os.getenv('HOME')+'/tmp', logger=None, epoch=0, store=False, num_classes=41)"
   ]
  },
  {
   "cell_type": "code",
   "execution_count": null,
   "id": "portable-organ",
   "metadata": {},
   "outputs": [],
   "source": [
    "import pandas as pd\n",
    "from pytorch_lightning import metrics as pl_metrics\n",
    "\n",
    "class PseudoLabelEvaluator():\n",
    "    def __init__(self, settings):\n",
    "        \"\"\"\n",
    "        settings: list of dicts with \"name\", \"cfg\" params for PLG\n",
    "        \"\"\"\n",
    "        self.settings = settings\n",
    "        self.df = pd.DataFrame( columns=['name', 'idx', 'acc_raw', 'acc_pseudo'] )\n",
    "        self.visu = Visualizer(os.getenv('HOME')+'/tmp', logger=None, epoch=0, store=False, num_classes=41)\n",
    "        self.acc = pl_metrics.classification.Accuracy()\n",
    "    \n",
    "    def evaluate_all_settings(self):\n",
    "        for j, s in enumerate( self.settings):\n",
    "            print(f\"Evaluate Setting {j}/{len(self.settings)-1}: \\n\", s)\n",
    "            plg = PseudoLabelGenerator(visu=self.visu, visu_active=False, **s['cfg'])\n",
    "            \n",
    "            for i in range(0,10):\n",
    "            \n",
    "                dept, label_pseudo, label_pred_raw = plg.calculate_label(i)\n",
    "                label_gt = plg.get_gt_label(i)\n",
    "                m  =  label_gt > -1\n",
    "                acc_pseudo = float( self.acc(torch.from_numpy( label_pseudo[m]), torch.from_numpy( label_gt[m])) )\n",
    "                acc_raw = float( self.acc(torch.from_numpy( label_pred_raw[m]), torch.from_numpy( label_gt[m])) )\n",
    "                self.df = self.df.append( {'name': s['name'], 'idx': i, 'acc_raw': acc_raw, 'acc_pseudo': acc_pseudo  },\n",
    "                          ignore_index=True)\n",
    "    def print_results(self):\n",
    "        return self.df\n",
    "\n",
    "    def evaluate_df(self):\n",
    "        return self.df.groupby('name').mean()\n",
    "\n",
    "settings = [\n",
    "# {\n",
    "# 'name': \"Super\",\n",
    "# 'cfg': {\n",
    "#     \"refine_superpixel\": True,\n",
    "#     \"base_path\": \"/home/jonfrey/results/scannet_pseudo_label\",\n",
    "#     \"cfg_loader\": {\"ignore_depth\":True}\n",
    "# }\n",
    "# },\n",
    "# {\n",
    "# 'name': \"Not Super\",\n",
    "# 'cfg': {\n",
    "#     \"refine_superpixel\": False,\n",
    "#     \"base_path\": \"/home/jonfrey/results/scannet_pseudo_label\",\n",
    "#     \"cfg_loader\": {\"ignore_depth\":True}\n",
    "#     }\n",
    "# },\n",
    "{\n",
    "'name': \"Not Super\",\n",
    "'cfg': {\n",
    "    \"refine_superpixel\": False,\n",
    "    \"window_size\": 3,\n",
    "    \"base_path\": \"/home/jonfrey/results/scannet_pseudo_label\",\n",
    "    \"cfg_loader\": {\"ignore_depth\":True}\n",
    "    }\n",
    "}\n",
    "]    \n",
    "ple = PseudoLabelEvaluator(settings)\n",
    "ple.evaluate_all_settings()\n",
    "ple.evaluate_df()\n",
    "\n",
    "\n",
    "# index = 0\n",
    "# dept, label_pseudo, label_pred_raw = plg.calculate_label(index)\n",
    "# label_gt = plg.get_gt_label(index)\n",
    "# img = plg.get_img(index)\n",
    "\n",
    "# visu.plot_segmentation(label_pred_raw, jupyter=True)\n",
    "# visu.plot_segmentation(label_pseudo, jupyter=True)\n",
    "# visu.plot_segmentation(label_gt, jupyter=True)\n"
   ]
  },
  {
   "cell_type": "code",
   "execution_count": null,
   "id": "pediatric-smoke",
   "metadata": {},
   "outputs": [],
   "source": [
    "cfg ={\n",
    "    \"refine_superpixel\": False,\n",
    "    \"window_size\": 5,\n",
    "    \"base_path\": \"/home/jonfrey/results/scannet_pseudo_label\",\n",
    "    \"cfg_loader\": {\"ignore_depth\":True}\n",
    "}\n",
    "plg = PseudoLabelGenerator(visu=visu, visu_active=False, **cfg)\n",
    "idx = 20\n",
    "depth, label_pseudo , label_pred_raw = plg.calculate_label(idx)\n",
    "label_gt = plg.get_gt_label(idx)\n",
    "# plg._visu_seg_forwarded(seg)\n",
    "\n",
    "# visu.plot_segmentation(seg= label_gt + 1, jupyter=True)  \n",
    "# visu.plot_segmentation(seg= label_pred_raw + 1, jupyter=True)  \n",
    "\n",
    "acc = pl_metrics.classification.Accuracy()\n",
    "m = label_gt != -1\n",
    "acc_pseudo = float( acc(torch.from_numpy( label_pseudo[m]), torch.from_numpy( label_gt[m])) )\n",
    "acc_raw = float( acc(torch.from_numpy( label_pred_raw[m]), torch.from_numpy( label_gt[m])) )\n",
    "acc_pseudo, acc_raw"
   ]
  },
  {
   "cell_type": "code",
   "execution_count": null,
   "id": "respiratory-tract",
   "metadata": {},
   "outputs": [],
   "source": []
  },
  {
   "cell_type": "code",
   "execution_count": 1,
   "id": "postal-upper",
   "metadata": {},
   "outputs": [
    {
     "ename": "NameError",
     "evalue": "name 'torch' is not defined",
     "output_type": "error",
     "traceback": [
      "\u001b[0;31m---------------------------------------------------------------------------\u001b[0m",
      "\u001b[0;31mNameError\u001b[0m                                 Traceback (most recent call last)",
      "\u001b[0;32m<ipython-input-1-4441754cffc2>\u001b[0m in \u001b[0;36m<module>\u001b[0;34m\u001b[0m\n\u001b[0;32m----> 1\u001b[0;31m \u001b[0mres\u001b[0m \u001b[0;34m=\u001b[0m \u001b[0mtorch\u001b[0m\u001b[0;34m.\u001b[0m\u001b[0mload\u001b[0m\u001b[0;34m(\u001b[0m \u001b[0;34m\"/home/jonfrey/results/rpose/models/kitti.ckpt\"\u001b[0m\u001b[0;34m)\u001b[0m\u001b[0;34m\u001b[0m\u001b[0;34m\u001b[0m\u001b[0m\n\u001b[0m",
      "\u001b[0;31mNameError\u001b[0m: name 'torch' is not defined"
     ]
    }
   ],
   "source": []
  }
 ],
 "metadata": {
  "kernelspec": {
   "display_name": "track4",
   "language": "python",
   "name": "track4"
  },
  "language_info": {
   "codemirror_mode": {
    "name": "ipython",
    "version": 3
   },
   "file_extension": ".py",
   "mimetype": "text/x-python",
   "name": "python",
   "nbconvert_exporter": "python",
   "pygments_lexer": "ipython3",
   "version": "3.8.5"
  }
 },
 "nbformat": 4,
 "nbformat_minor": 5
}
