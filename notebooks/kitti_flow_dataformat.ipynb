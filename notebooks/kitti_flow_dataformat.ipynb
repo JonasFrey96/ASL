{
 "cells": [
  {
   "cell_type": "code",
   "execution_count": null,
   "metadata": {},
   "outputs": [],
   "source": [
    "from PIL import Image"
   ]
  },
  {
   "cell_type": "code",
   "execution_count": null,
   "metadata": {},
   "outputs": [],
   "source": [
    "p = \"/media/scratch2/jonfrey/datasets/KITTI/training/flow_occ/000067_10.png\"\n",
    "import imageio \n",
    "img = imageio.imread(p)\n",
    "\n",
    "\n",
    "img.dtype\n",
    "img[:,:,2].max(),img[:,:,2].min(), img.shape"
   ]
  }
 ],
 "metadata": {
  "kernelspec": {
   "display_name": "track3",
   "language": "python",
   "name": "track3"
  },
  "language_info": {
   "codemirror_mode": {
    "name": "ipython",
    "version": 3
   },
   "file_extension": ".py",
   "mimetype": "text/x-python",
   "name": "python",
   "nbconvert_exporter": "python",
   "pygments_lexer": "ipython3",
   "version": "3.7.4"
  }
 },
 "nbformat": 4,
 "nbformat_minor": 4
}
