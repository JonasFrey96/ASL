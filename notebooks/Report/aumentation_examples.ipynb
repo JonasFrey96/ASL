{
 "cells": [
  {
   "cell_type": "code",
   "execution_count": null,
   "id": "034429b9",
   "metadata": {},
   "outputs": [],
   "source": [
    "import os\n",
    "import sys\n",
    "from pathlib import Path\n",
    "\n",
    "ASL = os.path.join(str(Path.home()), \"ASL\")\n",
    "src = os.path.join(str(Path.home()), \"ASL\", \"src\")\n",
    "os.chdir( ASL )\n",
    "sys.path.append(ASL)\n",
    "sys.path.append(src)\n",
    "\n",
    "\n",
    "from lightning import Network\n",
    "from utils_asl import load_yaml\n",
    "from visu import Visualizer\n",
    "\n",
    "vi = Visualizer(p_visu=\"test\")\n",
    "\n",
    "textwidth = 12.7 #cm\n",
    "\n",
    "\n",
    "import matplotlib\n",
    "import matplotlib.pyplot as plt\n",
    "import skimage\n",
    "from PIL import Image, ImageDraw\n",
    "import imageio \n",
    "import numpy as np\n",
    "import torch\n",
    "import cv2\n",
    "import pandas\n",
    "from visu import *"
   ]
  },
  {
   "cell_type": "code",
   "execution_count": null,
   "id": "0b987c34",
   "metadata": {},
   "outputs": [],
   "source": [
    "from datasets_asl import ScanNet\n",
    "       \n",
    "snd = ScanNet(\n",
    "    root=\"/home/jonfrey/Datasets/scannet\",\n",
    "    mode=\"val\",\n",
    "    scenes=[],\n",
    "    output_trafo=None,\n",
    "    output_size=(320, 640),\n",
    "    degrees=10,\n",
    "    flip_p=0.5,\n",
    "    jitter_bcsh=[0.3, 0.3, 0.3, 0.05]\n",
    "  )\n",
    "\n",
    "sn =  [ snd[k][2] for k in [0,1140,2000]  ]\n",
    "sn_l =  [ Image.fromarray(vi.plot_detectron(snd[k][2],snd[k][1]+1,alpha=0.85, text_off =True, jupyter=False,  draw_bound=False))\n",
    "       for k in [0,1140,2000]  ]"
   ]
  },
  {
   "cell_type": "code",
   "execution_count": null,
   "id": "87d0d188",
   "metadata": {},
   "outputs": [],
   "source": [
    "import torchvision"
   ]
  },
  {
   "cell_type": "code",
   "execution_count": null,
   "id": "6b44ca10",
   "metadata": {},
   "outputs": [],
   "source": [
    "idx = 2\n",
    "ori = Image.fromarray( np.uint8( torchvision.transforms.ColorJitter(0,0,0,0)(sn[idx] ).permute(1,2,0).numpy() * 255) )\n",
    "color = Image.fromarray( np.uint8( torchvision.transforms.ColorJitter(0.6,0.6,0.6,0.05)(sn[idx] ).permute(1,2,0).numpy() * 255) )\n",
    "crop = Image.fromarray( np.uint8( torchvision.transforms.RandomResizedCrop((320,640))(torchvision.transforms.RandomRotation(30)(sn[idx])).permute(1,2,0).numpy() * 255) )\n",
    "flip = Image.fromarray( np.uint8( torchvision.transforms.RandomHorizontalFlip(p=1)(sn[idx]).permute(1,2,0).numpy() * 255) )\n",
    "\n",
    "ori.save('docs/augmentation/1.png')\n",
    "color.save('docs/augmentation/2.png')\n",
    "crop.save('docs/augmentation/3.png')\n",
    "flip.save('docs/augmentation/4.png')\n",
    "crop\n",
    "\n",
    "fig, ax = plt.subplots(1, 4, figsize=(textwidth, 1.8), sharex=True, sharey=True)\n",
    "left  = 0  # the left side of the subplots of the figure\n",
    "right = 1    # the right side of the subplots of the figure\n",
    "bottom = 0.0   # the bottom of the subplots of the figure\n",
    "top = 1      # the top of the subplots of the figure\n",
    "wspace = 0.05   # the amount of width reserved for blank space between subplots\n",
    "hspace = 0.0  # the amount of height reserved for white space between subplots\n",
    "\n",
    "\n",
    "plt.subplots_adjust(left=left, bottom=bottom, right=right, top=top, wspace=wspace, hspace=hspace)\n",
    "\n",
    "ax[0].imshow(ori)\n",
    "ax[1].imshow(color)\n",
    "ax[2].imshow(crop)\n",
    "ax[3].imshow(flip)\n",
    "\n",
    "for a in ax.ravel():\n",
    "    a.set_axis_off()\n",
    "\n",
    "from visu.visualizer import get_img_from_fig\n",
    "\n",
    "res = get_img_from_fig(fig, dpi=100)\n",
    "imageio.imwrite( 'docs/augmentation_example.png', res)\n"
   ]
  }
 ],
 "metadata": {
  "kernelspec": {
   "display_name": "track4",
   "language": "python",
   "name": "track4"
  },
  "language_info": {
   "codemirror_mode": {
    "name": "ipython",
    "version": 3
   },
   "file_extension": ".py",
   "mimetype": "text/x-python",
   "name": "python",
   "nbconvert_exporter": "python",
   "pygments_lexer": "ipython3",
   "version": "3.8.5"
  }
 },
 "nbformat": 4,
 "nbformat_minor": 5
}
