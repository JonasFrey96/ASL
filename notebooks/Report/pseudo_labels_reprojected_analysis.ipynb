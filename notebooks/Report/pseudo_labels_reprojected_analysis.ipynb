{
 "cells": [
  {
   "cell_type": "code",
   "execution_count": null,
   "id": "80ca745a",
   "metadata": {},
   "outputs": [],
   "source": [
    "p1 = \"/home/jonfrey/Datasets/labels_generated/create_labels_from_pretrained_reprojected/scans/scene0000_00/create_labels_from_pretrained_reprojected\"\n",
    "p2 = \"/home/jonfrey/Datasets/labels_generated/create_labels_from_pretrained/scans/scene0000_00/create_labels_from_pretrained\"\n",
    "p3 = \"/home/jonfrey/Datasets/labels_generated/create_labels_from_gt/scans/scene0000_00/create_labels_from_gt\"\n",
    "\n",
    "from pathlib import Path\n",
    "\n",
    "p1 = [str(s) for s in Path(p1).rglob('*.png')]\n",
    "p1.sort(\n",
    "    key=lambda x: int(x.split(\"/\")[-1][:-4])\n",
    ")\n",
    "p2 = [str(s) for s in Path(p2).rglob('*.png')]\n",
    "p2.sort(\n",
    "    key=lambda x: int(x.split(\"/\")[-1][:-4])\n",
    ")\n",
    "p3 = [str(s) for s in Path(p3).rglob('*.png')]\n",
    "p3.sort(\n",
    "    key=lambda x: int(x.split(\"/\")[-1][:-4])\n",
    ")\n",
    "\n",
    "images = [ s.replace(\"/home/jonfrey/Datasets/labels_generated/create_labels_from_pretrained_reprojected/scans/scene0000_00/create_labels_from_pretrained_reprojected\", \"/home/jonfrey/Datasets/scannet/scans/scene0000_00/color\").replace('png', 'jpg') for s in p1 ]\n",
    "import sys\n",
    "import os\n",
    "os.chdir(\"/home/jonfrey/ASL\")\n",
    "sys.path.append(\"\"\"/home/jonfrey/ASL/src/\"\"\")\n",
    "sys.path.append(\"\"\"/home/jonfrey/ASL/src/pseudo_label\"\"\")\n",
    "from utils_asl import LabelLoaderAuto\n",
    "from visu import Visualizer\n",
    "from PIL import Image\n",
    "visu = Visualizer(\"/home/jonfrey/Documents/master_thesis/Report/images/reprojected_pretrained\", \n",
    "                  logger=None, \n",
    "                  epoch=0, store=True, num_classes=41)\n",
    "\n",
    "lla = LabelLoaderAuto(root_scannet=\"/home/jonfrey/Datasets/scannet\")"
   ]
  },
  {
   "cell_type": "code",
   "execution_count": null,
   "id": "71ff8447",
   "metadata": {},
   "outputs": [],
   "source": [
    "replot_sequence = False\n",
    "if replot_sequence:\n",
    "    for k in range(len(p1)):\n",
    "        l = lla.get(p1[k])[0]\n",
    "        img = np.array( Image.open( images[k]) )\n",
    "        visu.plot_detectron(img, l, alpha=0.8 ,tag=\"reprojected\", jupyter=False, text_off=True,epoch=k*10)\n"
   ]
  },
  {
   "cell_type": "code",
   "execution_count": null,
   "id": "ccf7ac11",
   "metadata": {},
   "outputs": [],
   "source": [
    "import copy\n",
    "import numpy as np\n",
    "\n",
    "class AccMonitor():\n",
    "    def __init__(self):\n",
    "        self.metrics = {}\n",
    "        self.metric_dict = {'correct': 0,\n",
    "                            'correct_valid': 0,\n",
    "                            'correct_valid_both': 0,\n",
    "                            'total': 0, \n",
    "                            'total_valid':0,\n",
    "                            'total_valid_both':0,\n",
    "                            'images': 0}\n",
    "    def register(self,name):\n",
    "        self.metrics[name] = copy.deepcopy(self.metric_dict)\n",
    "        \n",
    "    def update(self,name, label, gt):\n",
    "        if name not in self.metrics.keys():\n",
    "            self.register(name)\n",
    "        m1 = gt != -1\n",
    "        self.metrics[name][\"total_valid\"] += (m1).sum()\n",
    "        self.metrics[name][\"correct_valid\"] += np.sum(gt[m1] == label[m1])\n",
    "        \n",
    "        m2 = (gt != -1 )*(label != -1)\n",
    "        self.metrics[name][\"total_valid_both\"] += (m2).sum()\n",
    "        self.metrics[name][\"correct_valid_both\"] += np.sum(gt[m2] == label[m2])\n",
    "        \n",
    "        self.metrics[name][\"total\"] += gt.size\n",
    "        self.metrics[name][\"correct\"] += np.sum(gt == label)\n",
    "        self.metrics[name][\"images\"] += 1\n",
    "        \n",
    "    def __str__(self):\n",
    "        s = \"Acc-Monitor:\\n\"\n",
    "        for k in self.metrics.keys():\n",
    "            acc = self.metrics[k]['correct_valid'] / self.metrics[k]['total_valid']\n",
    "            acc2 = self.metrics[k]['correct_valid_both'] / self.metrics[k]['total_valid_both']\n",
    "            s += f\"  {k}: Nr-Images: {self.metrics[k]['images']} , Avg-Acc: {acc}  Avg-Acc: valid both {acc2} \\n\"  \n",
    "        return s\n",
    "        \n",
    "accm = AccMonitor()\n",
    "accm.update(\"Test\", np.ones( (100,100)) ,np.ones( (100,100)))\n",
    "accm.update(\"Test2\", np.ones( (100,100)) ,np.ones( (100,100)))\n",
    "print(accm)"
   ]
  },
  {
   "cell_type": "code",
   "execution_count": null,
   "id": "b9f5968f",
   "metadata": {},
   "outputs": [],
   "source": [
    "p3"
   ]
  },
  {
   "cell_type": "code",
   "execution_count": null,
   "id": "aa9224e7",
   "metadata": {},
   "outputs": [],
   "source": [
    "plot_in_jupyter = False\n",
    "accm = AccMonitor()\n",
    "for k in range(len(p1)):\n",
    "    gt = lla.get(p3[k*10])[0]\n",
    "    network =  lla.get(p2[k])[0]\n",
    "    reprojected = lla.get(p1[k])[0]\n",
    "    if plot_in_jupyter:\n",
    "        visu.plot_detectron(img, gt, alpha=0.8 ,store=False,jupyter=True)\n",
    "        visu.plot_detectron(img, network, alpha=0.8 ,store=False,jupyter=True)\n",
    "        visu.plot_detectron(img, reprojected, alpha=0.8 ,store=False,jupyter=True)\n",
    "    accm.update(\"Reprojected\", reprojected-1 , gt-1)\n",
    "    accm.update(\"Network\", network-1,gt-1)\n",
    "    \n",
    "    print( accm )"
   ]
  },
  {
   "cell_type": "code",
   "execution_count": null,
   "id": "650d9b69",
   "metadata": {},
   "outputs": [],
   "source": [
    "me = accm.metrics\n",
    "\n",
    "s = \"Acc-Monitor:\\n\"\n",
    "        for k in self.metrics.keys():\n",
    "            acc = self.metrics[k]['correct_valid'] / self.metrics[k]['total_valid']\n",
    "            acc2 = self.metrics[k]['correct_valid_both'] / self.metrics[k]['total_valid_both']\n",
    "            s += f\"  {k}: Nr-Images: {self.metrics[k]['images']} , Avg-Acc: {acc}  Avg-Acc: valid both {acc2} \\n\"  \n",
    "        return s"
   ]
  }
 ],
 "metadata": {
  "kernelspec": {
   "display_name": "track4",
   "language": "python",
   "name": "track4"
  },
  "language_info": {
   "codemirror_mode": {
    "name": "ipython",
    "version": 3
   },
   "file_extension": ".py",
   "mimetype": "text/x-python",
   "name": "python",
   "nbconvert_exporter": "python",
   "pygments_lexer": "ipython3",
   "version": "3.8.5"
  }
 },
 "nbformat": 4,
 "nbformat_minor": 5
}
