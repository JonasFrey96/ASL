{
 "cells": [
  {
   "cell_type": "code",
   "execution_count": null,
   "id": "99d01cca",
   "metadata": {},
   "outputs": [],
   "source": [
    "import os\n",
    "import sys\n",
    "from pathlib import Path\n",
    "\n",
    "ASL = os.path.join(str(Path.home()), \"ASL\")\n",
    "src = os.path.join(str(Path.home()), \"ASL\", \"src\")\n",
    "os.chdir( ASL )\n",
    "sys.path.append(ASL)\n",
    "sys.path.append(src)\n",
    "import imageio\n",
    "\n"
   ]
  },
  {
   "cell_type": "code",
   "execution_count": null,
   "id": "78b5e6e5",
   "metadata": {},
   "outputs": [],
   "source": [
    "img = imageio.imread( \"/home/jonfrey/Datasets/scannet/scans/scene0000_00/color/10.jpg\" )\n",
    "im = pil.fromarray(img[k:-k:2,k:-k:2])\n",
    "im.save(\"docs/color_scene_0000_00_f0.png\")"
   ]
  },
  {
   "cell_type": "code",
   "execution_count": null,
   "id": "431ec3ea",
   "metadata": {},
   "outputs": [],
   "source": [
    "from visu import Visualizer\n",
    "\n",
    "vi = Visualizer(p_visu=\"test\")\n",
    "from utils_asl import LabelLoaderAuto\n",
    "lla = LabelLoaderAuto(root_scannet=\"/home/jonfrey/Datasets/scannet\")\n",
    "la = lla.get(\"/home/jonfrey/Datasets/scannet/scans/scene0000_00/label-filt/10.png\")[0]\n",
    "res = vi.plot_detectron( np.array(im), la[k:-k,k:-k], alpha= 0.9, jupyter=True)\n",
    "im = pil.fromarray(res)\n",
    "im.save(\"docs/label_scene_0000_00_f0.png\")"
   ]
  },
  {
   "cell_type": "code",
   "execution_count": null,
   "id": "b4ef6280",
   "metadata": {},
   "outputs": [],
   "source": [
    "import numpy as np\n",
    "import PIL.Image as pil\n",
    "import matplotlib as mpl\n",
    "import matplotlib.cm as cm\n",
    "import cv2\n",
    "img = imageio.imread( \"/home/jonfrey/Datasets/scannet/scans/scene0000_00/depth/10.png\" )\n",
    "k = 20\n",
    "img = img[k:-k,k:-k]\n",
    "vmax = np.percentile(img, 95)\n",
    "\n",
    "mi = img[img>10].min()\n",
    "normalizer = mpl.colors.Normalize(vmin=mi, vmax=vmax)\n",
    "mapper = cm.ScalarMappable(norm=normalizer, cmap='magma_r')\n",
    "colormapped_im = (mapper.to_rgba(img)[:, :, :3] * 255).astype(np.uint8)\n",
    "\n",
    "colormapped_im[img<20,:] = 0\n",
    "im = pil.fromarray(colormapped_im)\n",
    "im\n",
    "im.save(\"docs/depth_map_scene_0000_00_f0.png\")"
   ]
  }
 ],
 "metadata": {
  "kernelspec": {
   "display_name": "track4",
   "language": "python",
   "name": "track4"
  },
  "language_info": {
   "codemirror_mode": {
    "name": "ipython",
    "version": 3
   },
   "file_extension": ".py",
   "mimetype": "text/x-python",
   "name": "python",
   "nbconvert_exporter": "python",
   "pygments_lexer": "ipython3",
   "version": "3.8.5"
  }
 },
 "nbformat": 4,
 "nbformat_minor": 5
}
