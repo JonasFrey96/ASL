{
 "cells": [
  {
   "cell_type": "code",
   "execution_count": null,
   "id": "251f47b9",
   "metadata": {},
   "outputs": [],
   "source": [
    "import sys\n",
    "import os\n",
    "os.chdir(\"/home/jonfrey/ASL\")\n",
    "sys.path.append(\"\"\"/home/jonfrey/ASL/src/\"\"\")\n",
    "sys.path.append(\"\"\"/home/jonfrey/ASL/src/pseudo_label\"\"\")\n",
    "\n",
    "import numpy as np\n",
    "from visu import Visualizer\n",
    "import imageio\n",
    "\n",
    "\n",
    "# STD\n",
    "import os\n",
    "import copy\n",
    "\n",
    "# MISC\n",
    "import numpy as np\n",
    "import torch\n",
    "import imageio\n",
    "import cv2\n",
    "from PIL import Image\n",
    "\n",
    "# matplotlib\n",
    "import matplotlib\n",
    "import matplotlib.pyplot as plt\n",
    "from matplotlib import cm\n",
    "from matplotlib.backends.backend_agg import FigureCanvasAgg\n",
    "import matplotlib.patches as patches"
   ]
  },
  {
   "cell_type": "code",
   "execution_count": null,
   "id": "17dceb85",
   "metadata": {},
   "outputs": [],
   "source": [
    "from PIL import Image\n",
    "import cv2\n",
    "import torch\n",
    "from torchvision import transforms as tf\n",
    "from utils_asl import LabelLoaderAuto\n",
    "\n",
    "lla = LabelLoaderAuto(root_scannet=\"/home/jonfrey/Datasets/scannet\")"
   ]
  },
  {
   "cell_type": "code",
   "execution_count": null,
   "id": "497ff3e6",
   "metadata": {},
   "outputs": [],
   "source": [
    "from pathlib import Path\n",
    "import copy\n",
    "import numpy as np\n",
    "\n",
    "class AccMonitor():\n",
    "    def __init__(self):\n",
    "        self.metrics = {}\n",
    "        self.metric_dict = {'correct': 0,\n",
    "                            'correct_valid': 0,\n",
    "                            'correct_valid_both': 0,\n",
    "                            'total': 0, \n",
    "                            'total_valid':0,\n",
    "                            'total_valid_both':0,\n",
    "                            'images': 0}\n",
    "    def register(self,name):\n",
    "        self.metrics[name] = copy.deepcopy(self.metric_dict)\n",
    "        \n",
    "    def update(self,name, label, gt):\n",
    "        if name not in self.metrics.keys():\n",
    "            self.register(name)\n",
    "        m1 = gt != -1\n",
    "        self.metrics[name][\"total_valid\"] += (m1).sum()\n",
    "        self.metrics[name][\"correct_valid\"] += np.sum(gt[m1] == label[m1])\n",
    "        \n",
    "        m2 = (gt != -1 )*(label != -1)\n",
    "        self.metrics[name][\"total_valid_both\"] += (m2).sum()\n",
    "        self.metrics[name][\"correct_valid_both\"] += np.sum(gt[m2] == label[m2])\n",
    "        \n",
    "        self.metrics[name][\"total\"] += gt.size\n",
    "        self.metrics[name][\"correct\"] += np.sum(gt == label)\n",
    "        self.metrics[name][\"images\"] += 1\n",
    "        \n",
    "    def __str__(self):\n",
    "        s = \"Acc-Monitor:\\n\"\n",
    "        for k in self.metrics.keys():\n",
    "            acc = self.metrics[k]['correct_valid'] / self.metrics[k]['total_valid']\n",
    "            acc2 = self.metrics[k]['correct_valid_both'] / self.metrics[k]['total_valid_both']\n",
    "            s += f\"  {k}: Nr-Images: {self.metrics[k]['images']} , Avg-Acc: {acc}  Avg-Acc: valid both {acc2} \\n\"  \n",
    "        return s\n",
    "        \n",
    "accm = AccMonitor()\n",
    "accm.update(\"Test\", np.ones( (100,100)) ,np.ones( (100,100)))\n",
    "accm.update(\"Test2\", np.ones( (100,100)) ,np.ones( (100,100)))\n",
    "print(accm)"
   ]
  },
  {
   "cell_type": "code",
   "execution_count": null,
   "id": "b2a1f981",
   "metadata": {},
   "outputs": [],
   "source": [
    "visu = Visualizer(\"/home/jonfrey/Documents/master_thesis/Report/images/regu\", logger=None, epoch=0, store=False, num_classes=41)\n",
    "\n",
    "def get_labels(p,sub=1,la=\"png\"):\n",
    "    p = [str(s) for s in Path(p).rglob(f'*.{la}') if str(s).find(\"_.png\") == -1]\n",
    "    \n",
    "    p.sort(\n",
    "        key=lambda x: int(x.split(\"/\")[-1][:-4])\n",
    "    )\n",
    "    \n",
    "    return p[::sub]\n",
    "\n",
    "gt_p = get_labels(\"/home/jonfrey/Datasets/scannet/scans/scene0000_00/label-filt\",sub=10)\n",
    "\n",
    "img_p = get_labels(\"/home/jonfrey/Datasets/scannet/scans/scene0000_00/color\",sub=10, la=\"jpg\")\n",
    "\n",
    "\n",
    "labels_desilation2_09 = get_labels(\"/home/jonfrey/Datasets/labels_generated/desilation2_09/scans/scene0000_00\")\n",
    "labels_52_retrained =  get_labels(\"/home/jonfrey/Datasets/labels_generated/labels_pretrain_retrain_52/scans/scene0000_00\")\n",
    "labels_52_retrained_05 = get_labels(\"/home/jonfrey/Datasets/labels_generated/labels_pretrain_retrain_52_05/scans/scene0000_00\")\n",
    "labels_52_repro = get_labels(\"/home/jonfrey/Datasets/labels_generated/labels_52/scans/scene0000_00\")"
   ]
  },
  {
   "cell_type": "code",
   "execution_count": null,
   "id": "3cf955d4",
   "metadata": {},
   "outputs": [],
   "source": [
    "accm = AccMonitor()\n",
    "for i in range(0, len(labels_52_repro)):\n",
    "    gt = lla.get(gt_p[i])[0]\n",
    "    l1 = lla.get(labels_52_repro[i])[0]\n",
    "    l2 = lla.get(labels_desilation2_09[i])[0]\n",
    "    l3 = lla.get(labels_52_retrained[i])[0] \n",
    "    l4 = lla.get(labels_52_retrained_05[i])[0] \n",
    "    \n",
    "    accm.update(\"labels_52_repro\", l1-1 ,gt-1)\n",
    "    accm.update(\"labels_desilation2\", l2-1 ,gt-1)\n",
    "    accm.update(\"labels_52_retrained\", l3-1 ,gt-1)\n",
    "    accm.update(\"labels_pretrain_retrain_52_05\", l4-1 ,gt-1)\n",
    "    img = imageio.imread(img_p[i]) \n",
    "    if i == -1:\n",
    "        k = 12\n",
    "        visu.plot_detectron(np.array( imageio.imread(img_p[i]) )[k:-k,k:-k], l1, jupyter=True)\n",
    "        visu.plot_detectron(np.array( imageio.imread(img_p[i]) )[k:-k,k:-k], l2, jupyter=True)\n",
    "        visu.plot_detectron(np.array( imageio.imread(img_p[i]) )[k:-k,k:-k], l3, jupyter=True)\n",
    "        visu.plot_detectron(np.array( imageio.imread(img_p[i]) )[k:-k,k:-k], l4, jupyter=True)\n",
    "        visu.plot_detectron(np.array( imageio.imread(img_p[i]) )[k:-k,k:-k], gt, jupyter=True)"
   ]
  },
  {
   "cell_type": "code",
   "execution_count": null,
   "id": "698ff566",
   "metadata": {},
   "outputs": [],
   "source": [
    "visu = Visualizer(\"/home/jonfrey/Documents/master_thesis/Report/images/output_reprojected_labels\", logger=None, epoch=0, store=True, num_classes=41)\n",
    "\n",
    "visu.epoch = 200\n",
    "i = 200\n",
    "k = 12\n",
    "gt = lla.get(gt_p[i])[0]\n",
    "l1 = lla.get(labels_52_repro[i])[0]\n",
    "l2 = lla.get(labels_desilation2_09[i])[0]\n",
    "l3 = lla.get(labels_52_retrained[i])[0] \n",
    "l4 = lla.get(labels_52_retrained_05[i])[0] \n",
    "pt = lla.get(labels_52_repro[i].replace(\"labels_iteration_2\",\"labels_pretrained_2\"))[0] \n",
    "img = imageio.imread(img_p[i]) \n",
    "k = 12\n",
    "visu.plot_detectron(np.array( imageio.imread(img_p[i]) )[k:-k,k:-k], l1[k:-k,k:-k], jupyter=True, tag=\"repro_iteration_1\")\n",
    "# visu.plot_detectron(np.array( imageio.imread(img_p[i]) ), l2, jupyter=True)\n",
    "#visu.plot_detectron(np.array( imageio.imread(img_p[i]) ), l3, jupyter=True)\n",
    "visu.plot_detectron(np.array( imageio.imread(img_p[i]) )[k:-k,k:-k], l4[k:-k,k:-k], jupyter=True, tag=\"retrained_iteration_2\")\n",
    "visu.plot_detectron(np.array( imageio.imread(img_p[i]) )[k:-k,k:-k], gt[k:-k,k:-k], jupyter=True, tag=\"gt\")\n",
    "visu.plot_detectron(np.array( imageio.imread(img_p[i]) )[k:-k,k:-k], pt[k:-k,k:-k], jupyter=True, tag=\"pretrained\")"
   ]
  },
  {
   "cell_type": "code",
   "execution_count": null,
   "id": "c1c520d5",
   "metadata": {},
   "outputs": [],
   "source": []
  },
  {
   "cell_type": "code",
   "execution_count": null,
   "id": "dda4f92a",
   "metadata": {},
   "outputs": [],
   "source": [
    "print(accm)"
   ]
  },
  {
   "cell_type": "code",
   "execution_count": null,
   "id": "07c30cbf",
   "metadata": {},
   "outputs": [],
   "source": [
    "labels_iteration_2 = get_labels(\"/home/jonfrey/Datasets/labels_generated/labels_iteration_2/scans/scene0000_00\")\n",
    "accm2 = AccMonitor()\n",
    "for i in range(0, len(labels_52_repro)):\n",
    "    gt = lla.get(gt_p[i])[0]\n",
    "    l1 = lla.get(labels_iteration_2[i])[0]\n",
    "    \n",
    "    accm2.update(\"labels_iteration2\", l1-1 ,gt-1)\n",
    "    print(i)\n",
    "    if i == 0:\n",
    "        visu.plot_detectron(np.array( imageio.imread(img_p[i]) ), l1, jupyter=True)\n",
    "        visu.plot_detectron(np.array( imageio.imread(img_p[i]) ), gt, jupyter=True)\n",
    "\n",
    "        img = imageio.imread(img_p[i]) \n",
    "        "
   ]
  },
  {
   "cell_type": "code",
   "execution_count": null,
   "id": "7d8a9972",
   "metadata": {},
   "outputs": [],
   "source": [
    "print( accm2 )"
   ]
  },
  {
   "cell_type": "code",
   "execution_count": null,
   "id": "230ae072",
   "metadata": {},
   "outputs": [],
   "source": [
    "labels_iteration_2 = get_labels(\"/home/jonfrey/Datasets/labels_generated/labels_iteration_2/scans/scene0000_00\")\n",
    "accm3 = AccMonitor()\n",
    "for i in range(0, len(labels_52_repro)):\n",
    "    gt = lla.get(gt_p[i])[0]\n",
    "    l1 = lla.get(labels_iteration_2[i])[0]\n",
    "    \n",
    "    accm3.update(\"labels_iteration2\", l1-1 ,gt-1)\n",
    "    print(i)\n",
    "    if i == 0:\n",
    "        visu.plot_detectron(np.array( imageio.imread(img_p[i]) ), l1, jupyter=True)\n",
    "        visu.plot_detectron(np.array( imageio.imread(img_p[i]) ), gt, jupyter=True)\n",
    "\n",
    "        img = imageio.imread(img_p[i]) \n",
    "        "
   ]
  },
  {
   "cell_type": "code",
   "execution_count": null,
   "id": "73cbc0ee",
   "metadata": {},
   "outputs": [],
   "source": [
    "labels_iteration_2 = get_labels(\"/home/jonfrey/Datasets/labels_generated/labels_ft_iteration_2_trained_05/scans/scene0000_00\")\n",
    "accm3 = AccMonitor()\n",
    "for i in range(0, len(labels_52_repro)):\n",
    "    gt = lla.get(gt_p[i])[0]\n",
    "    l1 = lla.get(labels_iteration_2[i])[0]\n",
    "    \n",
    "    accm3.update(\"labels_trained_2\", l1-1 ,gt-1)\n",
    "    print(i)\n",
    "    if i == 0:\n",
    "        visu.plot_detectron(np.array( imageio.imread(img_p[i]) ), l1, jupyter=True)\n",
    "        visu.plot_detectron(np.array( imageio.imread(img_p[i]) ), gt, jupyter=True)\n",
    "\n",
    "        img = imageio.imread(img_p[i]) "
   ]
  },
  {
   "cell_type": "code",
   "execution_count": null,
   "id": "292e0e39",
   "metadata": {},
   "outputs": [],
   "source": [
    "print( accm3 )"
   ]
  },
  {
   "cell_type": "code",
   "execution_count": null,
   "id": "4c614664",
   "metadata": {},
   "outputs": [],
   "source": [
    "labels_iteration_2 = get_labels(\"/home/jonfrey/Datasets/labels_generated/labels_iteration_3/scans/scene0000_00\")\n",
    "accm4 = AccMonitor()\n",
    "for i in range(0, len(labels_52_repro)):\n",
    "    gt = lla.get(gt_p[i])[0]\n",
    "    l1 = lla.get(labels_iteration_2[i])[0]\n",
    "    \n",
    "    accm3.update(\"labels_iteration_3\", l1-1 ,gt-1)\n",
    "    print(i)\n",
    "    if i == 0:\n",
    "        visu.plot_detectron(np.array( imageio.imread(img_p[i]) ), l1, jupyter=True)\n",
    "        visu.plot_detectron(np.array( imageio.imread(img_p[i]) ), gt, jupyter=True)\n",
    "\n",
    "        img = imageio.imread(img_p[i])\n",
    "        \n",
    "accm4"
   ]
  },
  {
   "cell_type": "code",
   "execution_count": null,
   "id": "7ca3805b",
   "metadata": {},
   "outputs": [],
   "source": [
    "print( accm3 )"
   ]
  }
 ],
 "metadata": {
  "kernelspec": {
   "display_name": "track4",
   "language": "python",
   "name": "track4"
  },
  "language_info": {
   "codemirror_mode": {
    "name": "ipython",
    "version": 3
   },
   "file_extension": ".py",
   "mimetype": "text/x-python",
   "name": "python",
   "nbconvert_exporter": "python",
   "pygments_lexer": "ipython3",
   "version": "3.8.5"
  }
 },
 "nbformat": 4,
 "nbformat_minor": 5
}
