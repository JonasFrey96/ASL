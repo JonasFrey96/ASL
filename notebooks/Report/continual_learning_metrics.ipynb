{
 "cells": [
  {
   "cell_type": "code",
   "execution_count": null,
   "id": "80cb1036",
   "metadata": {},
   "outputs": [],
   "source": [
    "import numpy as np \n",
    "import pickle\n",
    "reference_100 = np.array( [0.785, 0.891,0.652,0.885] )\n",
    "def mat_from_pkl(a):\n",
    "    with open(a, \"rb\") as input_file:\n",
    "        data = pickle.load(input_file)\n",
    "    res= np.unique( np.array( data[-1] ), return_index =True) \n",
    "    idx = res[1]\n",
    "    mat = np.zeros( (idx.shape[0], idx.shape[0]))\n",
    "    data = [np.array(d) for d in data]\n",
    "\n",
    "    el = data[-1].max()+1\n",
    "    for i in range( el ):\n",
    "        for j in range( el  ):\n",
    "            mat[i,j] = data[j][data[-1] == i][-1]\n",
    "    return mat\n",
    "\n",
    "def get(a, start=0):\n",
    "    with open(a, \"rb\") as input_file:\n",
    "            data = pickle.load(input_file)\n",
    "    res= np.unique( np.array( data[-1] ), return_index =True) \n",
    "    idx = res[1]\n",
    "    mat = np.zeros( (idx.shape[0], idx.shape[0]))\n",
    "    data = [np.array(d) for d in data]\n",
    "\n",
    "    el = data[-1].max()+1\n",
    "    for i in range( el ):\n",
    "        for j in range( el  ):\n",
    "            mat[i,j] = data[j][data[-1] == i][-1]\n",
    "\n",
    "    ta = mat\n",
    "    mat = mat[start:,start:]\n",
    "    print(mat)\n",
    "    \n",
    "    elements = np.ones_like(mat)\n",
    "\n",
    "    ACC = np.tril(mat, k =0).sum()  / np.tril(elements, k =0).sum() \n",
    "    print ( \"ACC: \", round( ACC*100,1) )\n",
    "    FWT = np.triu(mat, k =1).sum()  / np.triu(elements, k =1).sum() \n",
    "    print ( \"FWT: \", round( FWT*100,1))\n",
    "    dia = np.diagonal(mat)\n",
    "    mat_out = np.copy(mat)\n",
    "    for i in range(mat.shape[1]):\n",
    "        mat_out[:,i] -= dia[i]\n",
    "    BWT = np.tril(mat_out, k =-1).sum() / np.tril(elements, k =-1).sum() \n",
    "    print ( \"BWT: \", round( BWT* 100,1) )   \n",
    "    print( \"Omega\",  np.mean( mat[-1,:]/reference_100 ) )\n",
    "    print( round( ACC*100,1), \" & \", round( FWT*100,1) ,\"&\",round( BWT* 100,1) ,\"&\",round(np.mean( mat[-1,:]/reference_100 )* 100,1) )\n",
    "    return ta"
   ]
  },
  {
   "cell_type": "code",
   "execution_count": null,
   "id": "b0aadac1",
   "metadata": {},
   "outputs": [],
   "source": [
    "b = \"/home/jonfrey/Results/semi_4_scenes/2021-07-28T21:02:55_cl_005_unltimited_mem_ratio05/val_res.pkl\"\n",
    "mat = get(b,start=1)\n",
    "mat[0,1:].mean(), mat[-1,1:].mean(), mat[1:,1:][np.eye(4)==1].mean()\n",
    "\n",
    "mat[-1,1:].mean()-mat[0,1:].mean()"
   ]
  },
  {
   "cell_type": "code",
   "execution_count": null,
   "id": "933bffef",
   "metadata": {},
   "outputs": [],
   "source": [
    "a = \"/home/jonfrey/Results/scannet_cl_buffer_filling/2021-07-19T10:36:55_random/val_res.pkl\"\n",
    "get(a,start=1)\n",
    "a = \"/home/jonfrey/Results/scannet_teacher/2021-07-19T11:14:42_hard1/val_res.pkl\"\n",
    "get(a,start=1)\n",
    "a = \"/home/jonfrey/Results/scannet_teacher/2021-07-19T11:14:42_soft10/val_res.pkl\"\n",
    "get(a,start=1)"
   ]
  }
 ],
 "metadata": {
  "kernelspec": {
   "display_name": "track4",
   "language": "python",
   "name": "track4"
  },
  "language_info": {
   "codemirror_mode": {
    "name": "ipython",
    "version": 3
   },
   "file_extension": ".py",
   "mimetype": "text/x-python",
   "name": "python",
   "nbconvert_exporter": "python",
   "pygments_lexer": "ipython3",
   "version": "3.8.5"
  }
 },
 "nbformat": 4,
 "nbformat_minor": 5
}
