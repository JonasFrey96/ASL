{
 "cells": [
  {
   "cell_type": "code",
   "execution_count": 15,
   "id": "80cb1036",
   "metadata": {},
   "outputs": [],
   "source": [
    "import numpy as np \n",
    "import pickle\n",
    "reference_100 = np.array( [0.785, 0.891,0.652,0.885] )\n",
    "def mat_from_pkl(a):\n",
    "    with open(a, \"rb\") as input_file:\n",
    "        data = pickle.load(input_file)\n",
    "    res= np.unique( np.array( data[-1] ), return_index =True) \n",
    "    idx = res[1]\n",
    "    mat = np.zeros( (idx.shape[0], idx.shape[0]))\n",
    "    data = [np.array(d) for d in data]\n",
    "\n",
    "    el = data[-1].max()+1\n",
    "    for i in range( el ):\n",
    "        for j in range( el  ):\n",
    "            mat[i,j] = data[j][data[-1] == i][-1]\n",
    "    return mat\n",
    "\n",
    "def get(a, start=0):\n",
    "    with open(a, \"rb\") as input_file:\n",
    "            data = pickle.load(input_file)\n",
    "    res= np.unique( np.array( data[-1] ), return_index =True) \n",
    "    idx = res[1]\n",
    "    mat = np.zeros( (idx.shape[0], idx.shape[0]))\n",
    "    data = [np.array(d) for d in data]\n",
    "\n",
    "    el = data[-1].max()+1\n",
    "    for i in range( el ):\n",
    "        for j in range( el  ):\n",
    "            mat[i,j] = data[j][data[-1] == i][-1]\n",
    "\n",
    "    ta = mat\n",
    "    mat = mat[start:,start:]\n",
    "    print(mat)\n",
    "    \n",
    "    elements = np.ones_like(mat)\n",
    "\n",
    "    ACC = np.tril(mat, k =0).sum()  / np.tril(elements, k =0).sum() \n",
    "    print ( \"ACC: \", round( ACC*100,1) )\n",
    "    FWT = np.triu(mat, k =1).sum()  / np.triu(elements, k =1).sum() \n",
    "    print ( \"FWT: \", round( FWT*100,1))\n",
    "    dia = np.diagonal(mat)\n",
    "    mat_out = np.copy(mat)\n",
    "    for i in range(mat.shape[1]):\n",
    "        mat_out[:,i] -= dia[i]\n",
    "    BWT = np.tril(mat_out, k =-1).sum() / np.tril(elements, k =-1).sum() \n",
    "    print ( \"BWT: \", round( BWT* 100,1) )   \n",
    "    print( \"Omega\",  np.mean( mat[-1,:]/reference_100 ) )\n",
    "    print( round( ACC*100,1), \" & \", round( FWT*100,1) ,\"&\",round( BWT* 100,1) ,\"&\",round(np.mean( mat[-1,:]/reference_100 )* 100,1) )\n",
    "    return ta"
   ]
  },
  {
   "cell_type": "code",
   "execution_count": 22,
   "id": "b0aadac1",
   "metadata": {},
   "outputs": [
    {
     "name": "stdout",
     "output_type": "stream",
     "text": [
      "[[0.66129577 0.5288769  0.37558588 0.61942613]\n",
      " [0.65451401 0.51616317 0.34464055 0.65427893]\n",
      " [0.64370358 0.46484619 0.39307958 0.62020737]\n",
      " [0.66138887 0.46335819 0.39251283 0.74929219]]\n",
      "ACC:  56.0\n",
      "FWT:  52.4\n",
      "BWT:  -2.1\n",
      "Omega 0.7028119627209155\n",
      "56.0  &  52.4 & -2.1 & 70.3\n"
     ]
    },
    {
     "data": {
      "text/plain": [
       "0.007923625409603119"
      ]
     },
     "execution_count": 22,
     "metadata": {},
     "output_type": "execute_result"
    }
   ],
   "source": [
    "b = \"/home/jonfrey/Results/semi_4_scenes/2021-07-28T21:02:55_cl_005_unltimited_mem_ratio05/val_res.pkl\"\n",
    "mat = get(b,start=1)\n",
    "mat[0,1:].mean(), mat[-1,1:].mean(), mat[1:,1:][np.eye(4)==1].mean()\n",
    "\n",
    "mat[-1,1:].mean()-mat[0,1:].mean()"
   ]
  },
  {
   "cell_type": "code",
   "execution_count": 23,
   "id": "933bffef",
   "metadata": {},
   "outputs": [
    {
     "name": "stdout",
     "output_type": "stream",
     "text": [
      "[[0.81615472 0.53594357 0.33744022 0.64060748]\n",
      " [0.80342025 0.88968062 0.34354961 0.59634465]\n",
      " [0.7593562  0.88378012 0.64375269 0.53437626]\n",
      " [0.78763568 0.8945756  0.57710427 0.86928439]]\n",
      "ACC:  79.2\n",
      "FWT:  49.8\n",
      "BWT:  -2.8\n",
      "Omega 0.9686855182558156\n",
      "79.2  &  49.8 & -2.8 & 96.9\n",
      "[[0.80719364 0.58249032 0.37278444 0.65457797]\n",
      " [0.79437721 0.88636494 0.35975188 0.65840602]\n",
      " [0.77939534 0.80844223 0.61455297 0.62829745]\n",
      " [0.77937579 0.86153513 0.61288512 0.89036882]]\n",
      "ACC:  78.3\n",
      "FWT:  54.3\n",
      "BWT:  -2.9\n",
      "Omega 0.9764600694927172\n",
      "78.3  &  54.3 & -2.9 & 97.6\n",
      "[[0.81926394 0.53537816 0.32664412 0.64932454]\n",
      " [0.79683191 0.89618993 0.32402092 0.64283365]\n",
      " [0.73547    0.78074902 0.64954871 0.55053771]\n",
      " [0.73220366 0.81339157 0.62468535 0.90118635]]\n",
      "ACC:  77.5\n",
      "FWT:  50.5\n",
      "BWT:  -6.9\n",
      "Omega 0.9555092294863179\n",
      "77.5  &  50.5 & -6.9 & 95.6\n"
     ]
    }
   ],
   "source": [
    "a = \"/home/jonfrey/Results/scannet_cl_buffer_filling/2021-07-19T10:36:55_random/val_res.pkl\"\n",
    "get(a,start=1)\n",
    "a = \"/home/jonfrey/Results/scannet_teacher/2021-07-19T11:14:42_hard1/val_res.pkl\"\n",
    "get(a,start=1)\n",
    "a = \"/home/jonfrey/Results/scannet_teacher/2021-07-19T11:14:42_soft10/val_res.pkl\"\n",
    "get(a,start=1)"
   ]
  }
 ],
 "metadata": {
  "kernelspec": {
   "display_name": "track4",
   "language": "python",
   "name": "track4"
  },
  "language_info": {
   "codemirror_mode": {
    "name": "ipython",
    "version": 3
   },
   "file_extension": ".py",
   "mimetype": "text/x-python",
   "name": "python",
   "nbconvert_exporter": "python",
   "pygments_lexer": "ipython3",
   "version": "3.8.5"
  }
 },
 "nbformat": 4,
 "nbformat_minor": 5
}
