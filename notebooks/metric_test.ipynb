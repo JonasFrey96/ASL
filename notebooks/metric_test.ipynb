{
 "cells": [
  {
   "cell_type": "code",
   "execution_count": 20,
   "metadata": {},
   "outputs": [
    {
     "name": "stdout",
     "output_type": "stream",
     "text": [
      "ious tensor([ 1.0000, -1.0000,  1.0000,  1.0000, -1.0000,  0.5000, -1.0000, -1.0000,\n",
      "        -1.0000, -1.0000, -1.0000, -1.0000, -1.0000, -1.0000, -1.0000, -1.0000,\n",
      "        -1.0000, -1.0000, -1.0000, -1.0000])\n",
      "tensor(0.8750)\n",
      "res [1.0, 1.0, nan, 1.0, 1.0, nan, 0.5, nan, nan, nan, nan, nan, nan, nan, nan, nan, nan, nan, nan, nan, nan]\n",
      "0.875\n"
     ]
    }
   ],
   "source": [
    "import torch \n",
    "import numpy as np \n",
    "def calc_iou(target, pred, NC):\n",
    "\n",
    "    pred = pred.type(torch.int) + 1\n",
    "    target = target.type(torch.int) + 1\n",
    "    pred[target == 0] = 0\n",
    "    \n",
    "    ious = torch.zeros( (NC) ) -1\n",
    "    only_present = True\n",
    "    for c in range(0, NC) :\n",
    "        # c+1 to ignore the first index\n",
    "        target_c = target == c+1 \n",
    "        if only_present and torch.sum(target_c) == 0:\n",
    "            continue\n",
    "        pred_c = pred == c+1\n",
    "        intersection = torch.logical_and(pred_c, target_c).sum()\n",
    "        union = torch.logical_or(pred_c, target_c).sum()\n",
    "        if union != 0:\n",
    "            ious[c] = intersection / union\n",
    "    res = (ious[ious!=-1]).sum()/((ious!=-1).sum())\n",
    "    return res\n",
    "def calc_iou_np(target, pred, NC):\n",
    "    pred = pred[0].cpu().numpy() + 1 \n",
    "    label = target[0].cpu().numpy() +1\n",
    "    classes = NC+1\n",
    "    ignore_index = 0\n",
    "    only_present = True\n",
    "    pred[label == ignore_index] = 0\n",
    "    ious = []\n",
    "    for c in range( classes) :\n",
    "        label_c = label == c\n",
    "        if only_present and np.sum(label_c) == 0:\n",
    "            ious.append(np.nan)\n",
    "            continue\n",
    "        pred_c = pred == c\n",
    "        intersection = np.logical_and(pred_c, label_c).sum()\n",
    "        union = np.logical_or(pred_c, label_c).sum()\n",
    "        if union != 0:\n",
    "            ious.append(intersection / union)\n",
    "    res =  ious if ious else [1]\n",
    "    print('res', res)\n",
    "    num = np.nanmean(res[1:])\n",
    "    return num\n",
    "\n",
    "    \n",
    "    \n",
    "BS,H,W,NC = 10, 100, 200, 20\n",
    "pred = torch.zeros( (BS,H,W) )\n",
    "target = torch.zeros( (BS,H,W) )\n",
    "pred[:,:10,0] = 1\n",
    "pred[:,:10,1] = 2\n",
    "pred[:,:10,2] = 3\n",
    "pred[:,:10,3] = 4\n",
    "pred[:,:10,4] = 5\n",
    "\n",
    "target[:,:10,0] = -1\n",
    "target[:,:10,1] = 2\n",
    "target[:,:10,2] = 3\n",
    "target[:,:10,3] = 5\n",
    "target[:,:10,4] = 5\n",
    "\n",
    "print( calc_iou(target, pred, NC) )\n",
    "print( calc_iou_np(target, pred, NC) )"
   ]
  }
 ],
 "metadata": {
  "kernelspec": {
   "display_name": "track3",
   "language": "python",
   "name": "track3"
  },
  "language_info": {
   "codemirror_mode": {
    "name": "ipython",
    "version": 3
   },
   "file_extension": ".py",
   "mimetype": "text/x-python",
   "name": "python",
   "nbconvert_exporter": "python",
   "pygments_lexer": "ipython3",
   "version": "3.7.4"
  }
 },
 "nbformat": 4,
 "nbformat_minor": 4
}
