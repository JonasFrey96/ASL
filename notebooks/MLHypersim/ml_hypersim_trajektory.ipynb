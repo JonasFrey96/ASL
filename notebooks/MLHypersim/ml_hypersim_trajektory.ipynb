{
 "cells": [
  {
   "cell_type": "code",
   "execution_count": null,
   "metadata": {},
   "outputs": [],
   "source": [
    "import os, sys\n",
    "os.chdir('/home/jonfrey/ASL')\n",
    "sys.path.append('/home/jonfrey/ASL')\n",
    "sys.path.append('/home/jonfrey/ASL/src')\n",
    "\n",
    "\n",
    "from datasets_asl import get_dataset\n",
    "    \n",
    "import yaml\n",
    "import os \n",
    "from pathlib import Path\n",
    "import numpy as np\n",
    "import imageio\n",
    "from visu import Visualizer\n",
    "import time\n",
    "from PIL import Image\n",
    "vis = Visualizer( 'src/datasets/test_results/', writer=None, epoch=0, store=True, num_classes=41)\n",
    "\n",
    "home = str()\n",
    "with open(Path.joinpath( Path.home(),\"ASL/cfg/env/env.yml\")) as file:  \n",
    "    env = yaml.load(file, Loader=yaml.FullLoader) \n",
    "\n",
    "mlhypersim_template_dict = { \n",
    "    'name': 'mlhypersim',\n",
    "    'mode': 'train', \n",
    "    'output_size': 384,\n",
    "    'scenes': [],\n",
    "    'replay': False,\n",
    "    'cfg_replay':{'bins':4, 'elements':100, 'add_p': 0.5, 'replay_p':0.5, 'current_bin': 0},\n",
    "    'data_augmentation': False,\n",
    "    'data_augmentation_for_replay': False\n",
    "}\n",
    "\n",
    "dataset = get_dataset(**mlhypersim_template_dict, env=env)\n",
    "n = mlhypersim_template_dict['name']\n",
    "t_total = 0\n",
    "plot = True\n",
    "\n",
    "for i in range(0,100):\n",
    "    st = time.time() \n",
    "    img, label, img_ori, replay, global_idx = dataset[i]    # C, H, W\n",
    "    t_total += time.time()-st\n",
    "    if plot:\n",
    "#         vis.plot_segmentation(seg = label, tag = f'{n}_label', epoch = i)\n",
    "\n",
    "        # label = np.uint8( label.numpy() * (255/float(label.max())))[:,:]\n",
    "        img = np.uint8( img.permute(1,2,0).numpy()*255 ) # H W C\n",
    "        \n",
    "        display( Image.fromarray(img) )\n",
    "        \n",
    "#         imageio.imwrite(f'src/datasets/test_results/{i}_{n}_img.png', img)\n",
    "\n",
    "    print( f'Name: {n}, Iter: {i}, GloablIdx {global_idx}')\n",
    "print(f'Total loading time for {n}: {t_total}s')"
   ]
  }
 ],
 "metadata": {
  "kernelspec": {
   "display_name": "track3",
   "language": "python",
   "name": "track3"
  },
  "language_info": {
   "codemirror_mode": {
    "name": "ipython",
    "version": 3
   },
   "file_extension": ".py",
   "mimetype": "text/x-python",
   "name": "python",
   "nbconvert_exporter": "python",
   "pygments_lexer": "ipython3",
   "version": "3.7.4"
  }
 },
 "nbformat": 4,
 "nbformat_minor": 4
}
