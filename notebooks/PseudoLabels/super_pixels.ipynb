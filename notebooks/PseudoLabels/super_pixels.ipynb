{
 "cells": [
  {
   "cell_type": "code",
   "execution_count": null,
   "id": "21bbd925",
   "metadata": {},
   "outputs": [],
   "source": [
    "import os\n",
    "import sys \n",
    "os.chdir(os.path.join(os.getenv('HOME'), 'ASL'))\n",
    "sys.path.insert(0, os.path.join(os.getenv('HOME'), 'ASL'))\n",
    "sys.path.append(os.path.join(os.path.join(os.getenv('HOME'), 'ASL') + '/src'))\n",
    "\n",
    "from utils_asl import label_to_png, png_to_label\n",
    "from pathlib import Path\n",
    "import numpy as np\n",
    "\n",
    "\n",
    "scene = \"scene0003_00\""
   ]
  },
  {
   "cell_type": "code",
   "execution_count": null,
   "id": "1c0e007c",
   "metadata": {},
   "outputs": [],
   "source": [
    "p = f\"/home/jonfrey/Datasets/labels_generated/new_format_scene0-10/scans/{scene}\"\n",
    "paths = [str(s) for s in Path(p).rglob('*.png') if  str(s).find('identifier')]\n",
    "\n",
    "la = lambda p: int(p.split('/')[-1][:-4])\n",
    "paths.sort( key = la)\n"
   ]
  },
  {
   "cell_type": "code",
   "execution_count": null,
   "id": "7d48f449",
   "metadata": {},
   "outputs": [],
   "source": [
    "scannet = \"/home/jonfrey/Datasets/scannet/scans\""
   ]
  },
  {
   "cell_type": "code",
   "execution_count": null,
   "id": "36db4c62",
   "metadata": {},
   "outputs": [],
   "source": [
    "from visu import Visualizer   \n",
    "from PIL import Image\n",
    "from utils_asl import load_label_scannet, load_mapping_scannet\n",
    "\n",
    "mapping_scannet = load_mapping_scannet(\"/home/jonfrey/Datasets/scannet/scannetv2-labels.combined.tsv\")\n",
    "\n",
    "\n",
    "visu = Visualizer('/home/jonfrey/tmp', num_classes=40)\n",
    "\n",
    "def get_image(visu, pa, scannet, confidence=0.9, factor_of_mean = None, return_gt=False,mapping_scannet=False):\n",
    "    image_pth = '/'.join([scannet, pa.split('/')[-3],  'color', pa.split('/')[-1].replace('png','jpg')])\n",
    "    label_soft = png_to_label(pa)\n",
    "    label = np.argmax( label_soft, axis = 2 ) + 1\n",
    "    \n",
    "    val = np.max(label_soft, axis=2)\n",
    "    \n",
    "    if factor_of_mean is not None:\n",
    "        confidence = val.mean() * factor_of_mean \n",
    "    \n",
    "    label[ val < confidence ] = 0\n",
    "    img = np.array( Image.open( image_pth ) )      \n",
    "    ret =  (visu.plot_detectron( img, label, store=False, jupyter=False, alpha=0.4) , img)\n",
    "    if return_gt:\n",
    "        label_pth = '/'.join([scannet, pa.split('/')[-3],  'label-filt', pa.split('/')[-1]])\n",
    "        gt = load_label_scannet(label_pth, mapping_scannet)\n",
    "        ret += (visu.plot_detectron( img, gt, store=False, jupyter=True, alpha=0.4), )\n",
    "    return ret\n"
   ]
  },
  {
   "cell_type": "code",
   "execution_count": null,
   "id": "04b200d5",
   "metadata": {},
   "outputs": [],
   "source": [
    "from skimage.data import astronaut\n",
    "from skimage.segmentation import slic\n",
    "from skimage.util import img_as_float\n",
    "import matplotlib.pyplot as plt\n",
    "from skimage.segmentation import mark_boundaries\n",
    "\n",
    "for j,pa in enumerate( paths):\n",
    "    img, img_ori, gt = get_image(visu, pa, scannet, confidence=0.1, factor_of_mean=None, return_gt=True,mapping_scannet =mapping_scannet )\n",
    "    \n",
    "    segments_slic = slic(img_as_float(img_ori), n_segments=250, compactness=20, sigma=5,\n",
    "                         start_label=1)\n",
    "    fig, ax = plt.subplots(1, 1, figsize=(10, 10), sharex=True, sharey=True)\n",
    "    \n",
    "    ax.imshow(mark_boundaries(img_as_float(img), segments_slic))\n",
    "    plt.tight_layout()\n",
    "    plt.show()\n",
    "    \n",
    "    if j >= 0:\n",
    "        break\n",
    "#   r, g, b = img.split()\n",
    "#   img = np.array( Image.merge(\"RGB\", (b, g, r)) )\n",
    "#   video.write(img)\n",
    "#   print(j)\n",
    "# video.release()\n"
   ]
  },
  {
   "cell_type": "code",
   "execution_count": null,
   "id": "79687957",
   "metadata": {},
   "outputs": [],
   "source": [
    "from cv2 import VideoWriter, VideoWriter_fourcc\n",
    "import cv2\n",
    "FPS = 10\n",
    "height,width,_ = np.array( cv2.imread(paths[0] )).shape\n",
    "fourcc = VideoWriter_fourcc(\"M\", \"J\", \"P\",\"G\")\n",
    "co = 0.5\n",
    "video = VideoWriter(f'/home/jonfrey/Documents/master_thesis/weekly/21_05_31/{scene}_conf_{co}_pred.avi', fourcc, float(FPS), (width, height))\n",
    "\n",
    "for j,pa in enumerate( paths):\n",
    "    img, img_ori, gt = get_image(visu, pa, scannet, confidence=co, factor_of_mean=None, return_gt=True,mapping_scannet =mapping_scannet )\n",
    "\n",
    "    img = Image.fromarray(img)\n",
    "    \n",
    "    r, g, b = img.split()\n",
    "    img = np.array( Image.merge(\"RGB\", (b, g, r)) )\n",
    "    video.write(img)\n",
    "    print(j)\n",
    "        \n",
    "video.release()"
   ]
  }
 ],
 "metadata": {
  "kernelspec": {
   "display_name": "track4",
   "language": "python",
   "name": "track4"
  },
  "language_info": {
   "codemirror_mode": {
    "name": "ipython",
    "version": 3
   },
   "file_extension": ".py",
   "mimetype": "text/x-python",
   "name": "python",
   "nbconvert_exporter": "python",
   "pygments_lexer": "ipython3",
   "version": "3.8.5"
  }
 },
 "nbformat": 4,
 "nbformat_minor": 5
}
