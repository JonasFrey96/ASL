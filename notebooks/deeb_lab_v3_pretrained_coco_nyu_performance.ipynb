{
 "cells": [
  {
   "cell_type": "code",
   "execution_count": null,
   "id": "prospective-atmosphere",
   "metadata": {},
   "outputs": [],
   "source": [
    "import sys\n",
    "import os\n",
    "sys.path.append(\"\"\"/home/jonfrey/ASL/src\"\"\")\n",
    "os.chdir(\"/home/jonfrey/ASL\")\n",
    "\n",
    "import torch\n",
    "import numpy as np\n",
    "from PIL import Image\n",
    "import imageio\n",
    "import pickle\n",
    "from visu import Visualizer\n",
    "from PIL import ImageDraw, ImageFont\n",
    "from torchvision import transforms as tf\n",
    "\n",
    "from sklearn.metrics import confusion_matrix\n",
    "from pseudo_label import getPathsSegmentation, readSegmentation\n",
    "\n",
    "visu = Visualizer(os.getenv('HOME')+'/tmp', logger=None, epoch=0, store=False, num_classes=41)\n"
   ]
  },
  {
   "cell_type": "code",
   "execution_count": null,
   "id": "generic-algorithm",
   "metadata": {},
   "outputs": [],
   "source": [
    "def paths_acc_conf(paths, plot=True):\n",
    "    agg = None\n",
    "    for j,p in enumerate( paths ):\n",
    "        pred, target, valid = readSegmentation(p)\n",
    "    #     r= visu.plot_segmentation(seg= pred+1,jupyter=True)\n",
    "    #     r= visu.plot_segmentation(seg= target+1 ,jupyter=True)\n",
    "        conf = confusion_matrix(target.flatten(), pred.flatten(), labels=np.arange(40))\n",
    "        if agg is None:\n",
    "            agg = conf\n",
    "        else:\n",
    "            agg += conf\n",
    "        if j % 50 == 0:\n",
    "            print(f\"{j}/{len(paths_dl)}\")\n",
    "    if plot:\n",
    "        r= visu.plot_nyu_confusion_matrix(agg ,jupyter=True)\n",
    "\n",
    "    sel = np.eye( agg.shape[0] )\n",
    "    acc = agg[sel==1].sum() / agg.sum()\n",
    "    \n",
    "\n",
    "    return acc, agg"
   ]
  },
  {
   "cell_type": "code",
   "execution_count": null,
   "id": "minor-eclipse",
   "metadata": {},
   "outputs": [],
   "source": [
    "paths_dl = getPathsSegmentation(base=\"/home/jonfrey/results/scannet_pseudo_label/scannet\", key=\"deeblab_v3\")\n",
    "acc_deeplab, agg_deeplab = paths_acc_conf( paths_dl)\n",
    "\n",
    "paths_fast = getPathsSegmentation(base=\"/home/jonfrey/results/scannet_pseudo_label/scannet\", key=\"segmentation_estimate\")\n",
    "acc_fast, agg_fast = paths_acc_conf( paths_fast)"
   ]
  },
  {
   "cell_type": "code",
   "execution_count": null,
   "id": "smooth-tribune",
   "metadata": {},
   "outputs": [],
   "source": [
    "print( \"Deeplab Acc:\", acc_deeplab )\n",
    "print( \"FastSCNN Acc:\", acc_fast )"
   ]
  }
 ],
 "metadata": {
  "kernelspec": {
   "display_name": "track4",
   "language": "python",
   "name": "track4"
  },
  "language_info": {
   "codemirror_mode": {
    "name": "ipython",
    "version": 3
   },
   "file_extension": ".py",
   "mimetype": "text/x-python",
   "name": "python",
   "nbconvert_exporter": "python",
   "pygments_lexer": "ipython3",
   "version": "3.7.4"
  }
 },
 "nbformat": 4,
 "nbformat_minor": 5
}
