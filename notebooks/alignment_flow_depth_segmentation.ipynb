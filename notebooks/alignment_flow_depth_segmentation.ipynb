{
 "cells": [
  {
   "cell_type": "code",
   "execution_count": null,
   "id": "young-campus",
   "metadata": {},
   "outputs": [],
   "source": [
    "from torchvision import transforms as tf \n",
    "import torch\n",
    "import time \n",
    "from pathlib import Path\n",
    "import imageio\n",
    "\n",
    "import matplotlib.pyplot as plt\n",
    "from time import time\n",
    "from glob import glob\n",
    "import matplotlib\n",
    "\n",
    "import cv2\n",
    "import numpy as np\n",
    "from PIL import Image\n",
    "\n",
    "base = \"/home/jonfrey/datasets/scannet\"\n",
    "image_pths = [str(p) for p in glob( base+'/**/*.jpg', recursive=True ) if str(p).find('color') != -1]\n",
    "fun = lambda x : x.split('/')[-3][-7:] + '_'+ str( \"0\"*(6-len( x.split('/')[-1][:-4]))) + x.split('/')[-1][:-4]  \n",
    "image_pths.sort(key=fun)\n",
    "image_pths\n",
    "\n",
    "\n"
   ]
  },
  {
   "cell_type": "code",
   "execution_count": null,
   "id": "legendary-uzbekistan",
   "metadata": {},
   "outputs": [],
   "source": [
    "def readFlowKITTI(filename):\n",
    "    flow = cv2.imread(filename, cv2.IMREAD_ANYDEPTH|cv2.IMREAD_COLOR)\n",
    "    flow = flow[:,:,::-1].astype(np.float32)\n",
    "    flow, valid = flow[:, :, :2], flow[:, :, 2]\n",
    "    flow = (flow - 2**15) / 64.0\n",
    "    return flow, valid\n",
    "\n",
    "f,v = readFlowKITTI(\"/home/jonfrey/datasets/scannet/scans/scene0000_00/flow_sub_10/flow_up_0.png\")"
   ]
  },
  {
   "cell_type": "code",
   "execution_count": null,
   "id": "essential-exposure",
   "metadata": {},
   "outputs": [],
   "source": [
    "def readDepth(filename): \n",
    "    depth = 0\n",
    "    return depth"
   ]
  },
  {
   "cell_type": "code",
   "execution_count": null,
   "id": "turned-settle",
   "metadata": {},
   "outputs": [],
   "source": [
    "def readSegmentation(filename):\n",
    "    \n",
    "    \n",
    "    return pred, target, valid"
   ]
  }
 ],
 "metadata": {
  "kernelspec": {
   "display_name": "track4",
   "language": "python",
   "name": "track4"
  },
  "language_info": {
   "codemirror_mode": {
    "name": "ipython",
    "version": 3
   },
   "file_extension": ".py",
   "mimetype": "text/x-python",
   "name": "python",
   "nbconvert_exporter": "python",
   "pygments_lexer": "ipython3",
   "version": "3.7.4"
  }
 },
 "nbformat": 4,
 "nbformat_minor": 5
}
